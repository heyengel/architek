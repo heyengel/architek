{
 "cells": [
  {
   "cell_type": "code",
   "execution_count": 55,
   "metadata": {
    "collapsed": false
   },
   "outputs": [],
   "source": [
    "import numpy as np\n",
    "import pandas as pd\n",
    "import zipfile, glob, json\n",
    "import matplotlib.pyplot as plt\n",
    "from sklearn import preprocessing\n",
    "pd.options.display.max_columns = 500\n",
    "pd.options.display.max_rows = 10000\n",
    "%matplotlib inline"
   ]
  },
  {
   "cell_type": "markdown",
   "metadata": {},
   "source": [
    "## NOAA 2015 Daily Weather"
   ]
  },
  {
   "cell_type": "code",
   "execution_count": null,
   "metadata": {
    "collapsed": false
   },
   "outputs": [],
   "source": [
    "df_noaa_daily = pd.read_csv('../data/noaa/daily/201506daily.txt.gz')"
   ]
  },
  {
   "cell_type": "code",
   "execution_count": null,
   "metadata": {
    "collapsed": false
   },
   "outputs": [],
   "source": [
    "df_noaa_daily.head()"
   ]
  },
  {
   "cell_type": "code",
   "execution_count": null,
   "metadata": {
    "collapsed": false
   },
   "outputs": [],
   "source": [
    "df_noaa_daily.tail()"
   ]
  },
  {
   "cell_type": "code",
   "execution_count": null,
   "metadata": {
    "collapsed": false
   },
   "outputs": [],
   "source": [
    "len(df_noaa_daily[df_noaa_daily.AvgSpeed == 'M']) / float(len(df_noaa_daily))"
   ]
  },
  {
   "cell_type": "code",
   "execution_count": null,
   "metadata": {
    "collapsed": false
   },
   "outputs": [],
   "source": [
    "df_noaa_daily.columns"
   ]
  },
  {
   "cell_type": "code",
   "execution_count": null,
   "metadata": {
    "collapsed": true
   },
   "outputs": [],
   "source": [
    "df_noaa_daily['DATE'] = pd.to_datetime(df_noaa_daily.DATE,  format='%Y%m%d')"
   ]
  },
  {
   "cell_type": "code",
   "execution_count": null,
   "metadata": {
    "collapsed": true
   },
   "outputs": [],
   "source": [
    "df_noaa_daily['TMAX'] = df_noaa_daily['TMAX'] *.1 * 9/5 +32"
   ]
  },
  {
   "cell_type": "code",
   "execution_count": null,
   "metadata": {
    "collapsed": false
   },
   "outputs": [],
   "source": [
    "df_noaa_daily.TMAX.describe()"
   ]
  },
  {
   "cell_type": "code",
   "execution_count": null,
   "metadata": {
    "collapsed": false
   },
   "outputs": [],
   "source": [
    "df_noaa_daily.columns"
   ]
  },
  {
   "cell_type": "code",
   "execution_count": null,
   "metadata": {
    "collapsed": false
   },
   "outputs": [],
   "source": [
    "# df_noaa_daily['TMAX_scaled'] = (df_noaa_daily.TMAX - df_noaa_daily.TMAX.min()) / (df_noaa_daily.TMAX.max() - df_noaa_daily.TMAX.min())"
   ]
  },
  {
   "cell_type": "code",
   "execution_count": null,
   "metadata": {
    "collapsed": false
   },
   "outputs": [],
   "source": [
    "df_noaa_daily.head()"
   ]
  },
  {
   "cell_type": "code",
   "execution_count": null,
   "metadata": {
    "collapsed": false
   },
   "outputs": [],
   "source": [
    "min_max_scaler = preprocessing.MinMaxScaler()\n",
    "scaler = preprocessing.StandardScaler()\n",
    "df_noaa_daily[['TMAX_scaled','TMIN_scaled', 'PRCP_scaled']] = pd.DataFrame(scaler.fit_transform(df_noaa_daily[['TMAX','TMIN','PRCP']]))"
   ]
  },
  {
   "cell_type": "code",
   "execution_count": null,
   "metadata": {
    "collapsed": false
   },
   "outputs": [],
   "source": [
    "df_noaa_daily.TMAX_scaled.describe()"
   ]
  },
  {
   "cell_type": "code",
   "execution_count": null,
   "metadata": {
    "collapsed": true
   },
   "outputs": [],
   "source": [
    "df_noaa_daily.set_index('DATE', inplace=True)"
   ]
  },
  {
   "cell_type": "code",
   "execution_count": null,
   "metadata": {
    "collapsed": false
   },
   "outputs": [],
   "source": [
    "df_noaa_daily.head()"
   ]
  },
  {
   "cell_type": "code",
   "execution_count": null,
   "metadata": {
    "collapsed": false
   },
   "outputs": [],
   "source": [
    "df_bart.EM_scaled.describe()"
   ]
  },
  {
   "cell_type": "code",
   "execution_count": null,
   "metadata": {
    "collapsed": false
   },
   "outputs": [],
   "source": [
    "df_noaa_daily['20150401':'20150530']['TMAX_scaled'].plot(figsize=(20,12), color = 'r')\n",
    "df_noaa_daily['20150401':'20150530']['PRCP_scaled'].plot(figsize=(20,12), color = 'b')\n",
    "df_bart['20150401':'20150530']['EM_scaled'].plot(figsize=(20,12), color = 'y')\n",
    "df_bart['20150401':'20150530']['MT_scaled'].plot(figsize=(20,12), color = 'g')\n",
    "plt.legend()"
   ]
  },
  {
   "cell_type": "code",
   "execution_count": null,
   "metadata": {
    "collapsed": false
   },
   "outputs": [],
   "source": [
    "df_noaa_daily['20150201':'20150415']['TMAX_scaled'].plot(figsize=(20,12), color = 'r')\n",
    "df_noaa_daily['20150201':'20150415']['PRCP_scaled'].plot(figsize=(20,12), color = 'b')\n",
    "df_bart['20150201':'20150415']['EM_scaled'].plot(figsize=(20,12), color = 'y', label='work')\n",
    "df_bart['20150201':'20150415']['MT_scaled'].plot(figsize=(20,12), color = 'g')\n",
    "plt.legend()"
   ]
  },
  {
   "cell_type": "code",
   "execution_count": null,
   "metadata": {
    "collapsed": false
   },
   "outputs": [],
   "source": [
    "df_noaa_daily['20140101':'20141019']['TMAX_scaled'].plot(figsize=(20,12), color = 'r')\n",
    "df_noaa_daily['20140101':'20141019']['PRCP_scaled'].plot(figsize=(20,12), color = 'b')\n",
    "df_bart['20140101':'20141019']['EM_scaled'].plot(figsize=(20,12), color = 'y', label='work')\n",
    "df_bart['20140101':'20141019']['MT_scaled'].plot(figsize=(20,12), color = 'g')\n",
    "df_flu['20140101':'20141019']['flu_scaled'].plot(figsize=(20,12), color = 'c')\n",
    "plt.legend()"
   ]
  },
  {
   "cell_type": "code",
   "execution_count": 72,
   "metadata": {
    "collapsed": false
   },
   "outputs": [],
   "source": [
    "df_temp = pd.read_csv('../data/noaa/QCLCD201603/201603daily.txt')"
   ]
  },
  {
   "cell_type": "code",
   "execution_count": 74,
   "metadata": {
    "collapsed": false
   },
   "outputs": [
    {
     "data": {
      "text/html": [
       "<div>\n",
       "<table border=\"1\" class=\"dataframe\">\n",
       "  <thead>\n",
       "    <tr style=\"text-align: right;\">\n",
       "      <th></th>\n",
       "      <th>WBAN</th>\n",
       "      <th>YearMonthDay</th>\n",
       "      <th>Tmax</th>\n",
       "      <th>TmaxFlag</th>\n",
       "      <th>Tmin</th>\n",
       "      <th>TminFlag</th>\n",
       "      <th>Tavg</th>\n",
       "      <th>TavgFlag</th>\n",
       "      <th>Depart</th>\n",
       "      <th>DepartFlag</th>\n",
       "      <th>DewPoint</th>\n",
       "      <th>DewPointFlag</th>\n",
       "      <th>WetBulb</th>\n",
       "      <th>WetBulbFlag</th>\n",
       "      <th>Heat</th>\n",
       "      <th>HeatFlag</th>\n",
       "      <th>Cool</th>\n",
       "      <th>CoolFlag</th>\n",
       "      <th>Sunrise</th>\n",
       "      <th>SunriseFlag</th>\n",
       "      <th>Sunset</th>\n",
       "      <th>SunsetFlag</th>\n",
       "      <th>CodeSum</th>\n",
       "      <th>CodeSumFlag</th>\n",
       "      <th>Depth</th>\n",
       "      <th>DepthFlag</th>\n",
       "      <th>Water1</th>\n",
       "      <th>Water1Flag</th>\n",
       "      <th>SnowFall</th>\n",
       "      <th>SnowFallFlag</th>\n",
       "      <th>PrecipTotal</th>\n",
       "      <th>PrecipTotalFlag</th>\n",
       "      <th>StnPressure</th>\n",
       "      <th>StnPressureFlag</th>\n",
       "      <th>SeaLevel</th>\n",
       "      <th>SeaLevelFlag</th>\n",
       "      <th>ResultSpeed</th>\n",
       "      <th>ResultSpeedFlag</th>\n",
       "      <th>ResultDir</th>\n",
       "      <th>ResultDirFlag</th>\n",
       "      <th>AvgSpeed</th>\n",
       "      <th>AvgSpeedFlag</th>\n",
       "      <th>Max5Speed</th>\n",
       "      <th>Max5SpeedFlag</th>\n",
       "      <th>Max5Dir</th>\n",
       "      <th>Max5DirFlag</th>\n",
       "      <th>Max2Speed</th>\n",
       "      <th>Max2SpeedFlag</th>\n",
       "      <th>Max2Dir</th>\n",
       "      <th>Max2DirFlag</th>\n",
       "    </tr>\n",
       "  </thead>\n",
       "  <tbody>\n",
       "    <tr>\n",
       "      <th>36301</th>\n",
       "      <td>23234</td>\n",
       "      <td>20160301</td>\n",
       "      <td>70</td>\n",
       "      <td></td>\n",
       "      <td>53</td>\n",
       "      <td></td>\n",
       "      <td>62</td>\n",
       "      <td></td>\n",
       "      <td>9</td>\n",
       "      <td></td>\n",
       "      <td>51</td>\n",
       "      <td></td>\n",
       "      <td>55</td>\n",
       "      <td></td>\n",
       "      <td>3</td>\n",
       "      <td></td>\n",
       "      <td>0</td>\n",
       "      <td></td>\n",
       "      <td>0641</td>\n",
       "      <td></td>\n",
       "      <td>1802</td>\n",
       "      <td></td>\n",
       "      <td></td>\n",
       "      <td></td>\n",
       "      <td>0</td>\n",
       "      <td></td>\n",
       "      <td>M</td>\n",
       "      <td></td>\n",
       "      <td>0.0</td>\n",
       "      <td></td>\n",
       "      <td>0.00</td>\n",
       "      <td></td>\n",
       "      <td>30.11</td>\n",
       "      <td></td>\n",
       "      <td>30.13</td>\n",
       "      <td></td>\n",
       "      <td>6.8</td>\n",
       "      <td></td>\n",
       "      <td>29</td>\n",
       "      <td></td>\n",
       "      <td>7.6</td>\n",
       "      <td></td>\n",
       "      <td>25</td>\n",
       "      <td></td>\n",
       "      <td>280</td>\n",
       "      <td></td>\n",
       "      <td>22</td>\n",
       "      <td></td>\n",
       "      <td>280</td>\n",
       "      <td></td>\n",
       "    </tr>\n",
       "    <tr>\n",
       "      <th>36302</th>\n",
       "      <td>23234</td>\n",
       "      <td>20160302</td>\n",
       "      <td>67</td>\n",
       "      <td></td>\n",
       "      <td>54</td>\n",
       "      <td></td>\n",
       "      <td>61</td>\n",
       "      <td></td>\n",
       "      <td>8</td>\n",
       "      <td></td>\n",
       "      <td>55</td>\n",
       "      <td></td>\n",
       "      <td>57</td>\n",
       "      <td></td>\n",
       "      <td>4</td>\n",
       "      <td></td>\n",
       "      <td>0</td>\n",
       "      <td></td>\n",
       "      <td>0640</td>\n",
       "      <td></td>\n",
       "      <td>1803</td>\n",
       "      <td></td>\n",
       "      <td></td>\n",
       "      <td></td>\n",
       "      <td>0</td>\n",
       "      <td></td>\n",
       "      <td>M</td>\n",
       "      <td></td>\n",
       "      <td>0.0</td>\n",
       "      <td></td>\n",
       "      <td>0.00</td>\n",
       "      <td></td>\n",
       "      <td>30.07</td>\n",
       "      <td></td>\n",
       "      <td>30.09</td>\n",
       "      <td></td>\n",
       "      <td>4.2</td>\n",
       "      <td></td>\n",
       "      <td>22</td>\n",
       "      <td></td>\n",
       "      <td>6.6</td>\n",
       "      <td></td>\n",
       "      <td>28</td>\n",
       "      <td></td>\n",
       "      <td>230</td>\n",
       "      <td></td>\n",
       "      <td>21</td>\n",
       "      <td></td>\n",
       "      <td>230</td>\n",
       "      <td></td>\n",
       "    </tr>\n",
       "    <tr>\n",
       "      <th>36303</th>\n",
       "      <td>23234</td>\n",
       "      <td>20160303</td>\n",
       "      <td>64</td>\n",
       "      <td></td>\n",
       "      <td>58</td>\n",
       "      <td></td>\n",
       "      <td>61</td>\n",
       "      <td></td>\n",
       "      <td>8</td>\n",
       "      <td></td>\n",
       "      <td>56</td>\n",
       "      <td></td>\n",
       "      <td>58</td>\n",
       "      <td></td>\n",
       "      <td>4</td>\n",
       "      <td></td>\n",
       "      <td>0</td>\n",
       "      <td></td>\n",
       "      <td>0638</td>\n",
       "      <td></td>\n",
       "      <td>1804</td>\n",
       "      <td></td>\n",
       "      <td>RA DZ</td>\n",
       "      <td></td>\n",
       "      <td>0</td>\n",
       "      <td></td>\n",
       "      <td>M</td>\n",
       "      <td></td>\n",
       "      <td>0.0</td>\n",
       "      <td></td>\n",
       "      <td>T</td>\n",
       "      <td></td>\n",
       "      <td>30.06</td>\n",
       "      <td></td>\n",
       "      <td>30.08</td>\n",
       "      <td></td>\n",
       "      <td>0.6</td>\n",
       "      <td></td>\n",
       "      <td>27</td>\n",
       "      <td></td>\n",
       "      <td>5.5</td>\n",
       "      <td></td>\n",
       "      <td>19</td>\n",
       "      <td></td>\n",
       "      <td>190</td>\n",
       "      <td></td>\n",
       "      <td>16</td>\n",
       "      <td></td>\n",
       "      <td>130</td>\n",
       "      <td></td>\n",
       "    </tr>\n",
       "    <tr>\n",
       "      <th>36304</th>\n",
       "      <td>23234</td>\n",
       "      <td>20160304</td>\n",
       "      <td>64</td>\n",
       "      <td></td>\n",
       "      <td>60</td>\n",
       "      <td></td>\n",
       "      <td>62</td>\n",
       "      <td></td>\n",
       "      <td>9</td>\n",
       "      <td></td>\n",
       "      <td>58</td>\n",
       "      <td></td>\n",
       "      <td>60</td>\n",
       "      <td></td>\n",
       "      <td>3</td>\n",
       "      <td></td>\n",
       "      <td>0</td>\n",
       "      <td></td>\n",
       "      <td>0637</td>\n",
       "      <td></td>\n",
       "      <td>1805</td>\n",
       "      <td></td>\n",
       "      <td>RA DZ BR</td>\n",
       "      <td></td>\n",
       "      <td>0</td>\n",
       "      <td></td>\n",
       "      <td>M</td>\n",
       "      <td></td>\n",
       "      <td>0.0</td>\n",
       "      <td></td>\n",
       "      <td>0.20</td>\n",
       "      <td></td>\n",
       "      <td>29.94</td>\n",
       "      <td></td>\n",
       "      <td>29.96</td>\n",
       "      <td></td>\n",
       "      <td>7.2</td>\n",
       "      <td></td>\n",
       "      <td>18</td>\n",
       "      <td></td>\n",
       "      <td>8.3</td>\n",
       "      <td></td>\n",
       "      <td>32</td>\n",
       "      <td></td>\n",
       "      <td>210</td>\n",
       "      <td></td>\n",
       "      <td>26</td>\n",
       "      <td></td>\n",
       "      <td>200</td>\n",
       "      <td></td>\n",
       "    </tr>\n",
       "    <tr>\n",
       "      <th>36305</th>\n",
       "      <td>23234</td>\n",
       "      <td>20160305</td>\n",
       "      <td>65</td>\n",
       "      <td></td>\n",
       "      <td>56</td>\n",
       "      <td></td>\n",
       "      <td>61</td>\n",
       "      <td></td>\n",
       "      <td>8</td>\n",
       "      <td></td>\n",
       "      <td>56</td>\n",
       "      <td></td>\n",
       "      <td>58</td>\n",
       "      <td></td>\n",
       "      <td>4</td>\n",
       "      <td></td>\n",
       "      <td>0</td>\n",
       "      <td></td>\n",
       "      <td>0636</td>\n",
       "      <td></td>\n",
       "      <td>1806</td>\n",
       "      <td></td>\n",
       "      <td>RA BR</td>\n",
       "      <td></td>\n",
       "      <td>0</td>\n",
       "      <td></td>\n",
       "      <td>M</td>\n",
       "      <td></td>\n",
       "      <td>0.0</td>\n",
       "      <td></td>\n",
       "      <td>1.45</td>\n",
       "      <td></td>\n",
       "      <td>29.75</td>\n",
       "      <td></td>\n",
       "      <td>29.77</td>\n",
       "      <td></td>\n",
       "      <td>13.3</td>\n",
       "      <td></td>\n",
       "      <td>17</td>\n",
       "      <td></td>\n",
       "      <td>15.4</td>\n",
       "      <td></td>\n",
       "      <td>53</td>\n",
       "      <td></td>\n",
       "      <td>190</td>\n",
       "      <td></td>\n",
       "      <td>43</td>\n",
       "      <td></td>\n",
       "      <td>170</td>\n",
       "      <td></td>\n",
       "    </tr>\n",
       "    <tr>\n",
       "      <th>36306</th>\n",
       "      <td>23234</td>\n",
       "      <td>20160306</td>\n",
       "      <td>61</td>\n",
       "      <td></td>\n",
       "      <td>48</td>\n",
       "      <td></td>\n",
       "      <td>55</td>\n",
       "      <td></td>\n",
       "      <td>2</td>\n",
       "      <td></td>\n",
       "      <td>47</td>\n",
       "      <td></td>\n",
       "      <td>51</td>\n",
       "      <td></td>\n",
       "      <td>10</td>\n",
       "      <td></td>\n",
       "      <td>0</td>\n",
       "      <td></td>\n",
       "      <td>0634</td>\n",
       "      <td></td>\n",
       "      <td>1807</td>\n",
       "      <td></td>\n",
       "      <td>RA</td>\n",
       "      <td></td>\n",
       "      <td>0</td>\n",
       "      <td></td>\n",
       "      <td>M</td>\n",
       "      <td></td>\n",
       "      <td>M</td>\n",
       "      <td></td>\n",
       "      <td>1.08</td>\n",
       "      <td></td>\n",
       "      <td>29.88</td>\n",
       "      <td></td>\n",
       "      <td>29.90</td>\n",
       "      <td></td>\n",
       "      <td>10.3</td>\n",
       "      <td></td>\n",
       "      <td>20</td>\n",
       "      <td></td>\n",
       "      <td>13.1</td>\n",
       "      <td></td>\n",
       "      <td>40</td>\n",
       "      <td></td>\n",
       "      <td>170</td>\n",
       "      <td></td>\n",
       "      <td>32</td>\n",
       "      <td></td>\n",
       "      <td>170</td>\n",
       "      <td></td>\n",
       "    </tr>\n",
       "    <tr>\n",
       "      <th>36307</th>\n",
       "      <td>23234</td>\n",
       "      <td>20160307</td>\n",
       "      <td>58</td>\n",
       "      <td></td>\n",
       "      <td>50</td>\n",
       "      <td></td>\n",
       "      <td>54</td>\n",
       "      <td></td>\n",
       "      <td>0</td>\n",
       "      <td></td>\n",
       "      <td>46</td>\n",
       "      <td></td>\n",
       "      <td>49</td>\n",
       "      <td></td>\n",
       "      <td>11</td>\n",
       "      <td></td>\n",
       "      <td>0</td>\n",
       "      <td></td>\n",
       "      <td>0633</td>\n",
       "      <td></td>\n",
       "      <td>1808</td>\n",
       "      <td></td>\n",
       "      <td>RA</td>\n",
       "      <td></td>\n",
       "      <td>0</td>\n",
       "      <td></td>\n",
       "      <td>M</td>\n",
       "      <td></td>\n",
       "      <td>0.0</td>\n",
       "      <td></td>\n",
       "      <td>0.13</td>\n",
       "      <td></td>\n",
       "      <td>29.82</td>\n",
       "      <td></td>\n",
       "      <td>29.84</td>\n",
       "      <td></td>\n",
       "      <td>10.2</td>\n",
       "      <td></td>\n",
       "      <td>29</td>\n",
       "      <td></td>\n",
       "      <td>13.2</td>\n",
       "      <td></td>\n",
       "      <td>45</td>\n",
       "      <td></td>\n",
       "      <td>290</td>\n",
       "      <td></td>\n",
       "      <td>37</td>\n",
       "      <td></td>\n",
       "      <td>290</td>\n",
       "      <td></td>\n",
       "    </tr>\n",
       "    <tr>\n",
       "      <th>36308</th>\n",
       "      <td>23234</td>\n",
       "      <td>20160308</td>\n",
       "      <td>57</td>\n",
       "      <td></td>\n",
       "      <td>47</td>\n",
       "      <td></td>\n",
       "      <td>52</td>\n",
       "      <td></td>\n",
       "      <td>-2</td>\n",
       "      <td></td>\n",
       "      <td>44</td>\n",
       "      <td></td>\n",
       "      <td>48</td>\n",
       "      <td></td>\n",
       "      <td>13</td>\n",
       "      <td></td>\n",
       "      <td>0</td>\n",
       "      <td></td>\n",
       "      <td>0631</td>\n",
       "      <td></td>\n",
       "      <td>1809</td>\n",
       "      <td></td>\n",
       "      <td>RA</td>\n",
       "      <td></td>\n",
       "      <td>0</td>\n",
       "      <td></td>\n",
       "      <td>M</td>\n",
       "      <td></td>\n",
       "      <td>M</td>\n",
       "      <td></td>\n",
       "      <td>T</td>\n",
       "      <td></td>\n",
       "      <td>30.08</td>\n",
       "      <td></td>\n",
       "      <td>30.10</td>\n",
       "      <td></td>\n",
       "      <td>5.5</td>\n",
       "      <td></td>\n",
       "      <td>27</td>\n",
       "      <td></td>\n",
       "      <td>7.6</td>\n",
       "      <td></td>\n",
       "      <td>29</td>\n",
       "      <td></td>\n",
       "      <td>300</td>\n",
       "      <td></td>\n",
       "      <td>22</td>\n",
       "      <td></td>\n",
       "      <td>300</td>\n",
       "      <td></td>\n",
       "    </tr>\n",
       "    <tr>\n",
       "      <th>36309</th>\n",
       "      <td>23234</td>\n",
       "      <td>20160309</td>\n",
       "      <td>65</td>\n",
       "      <td></td>\n",
       "      <td>52</td>\n",
       "      <td></td>\n",
       "      <td>59</td>\n",
       "      <td></td>\n",
       "      <td>5</td>\n",
       "      <td></td>\n",
       "      <td>54</td>\n",
       "      <td></td>\n",
       "      <td>56</td>\n",
       "      <td></td>\n",
       "      <td>6</td>\n",
       "      <td></td>\n",
       "      <td>0</td>\n",
       "      <td></td>\n",
       "      <td>0630</td>\n",
       "      <td></td>\n",
       "      <td>1810</td>\n",
       "      <td></td>\n",
       "      <td>RA BR</td>\n",
       "      <td></td>\n",
       "      <td>0</td>\n",
       "      <td></td>\n",
       "      <td>M</td>\n",
       "      <td></td>\n",
       "      <td>0.0</td>\n",
       "      <td></td>\n",
       "      <td>0.08</td>\n",
       "      <td></td>\n",
       "      <td>30.04</td>\n",
       "      <td></td>\n",
       "      <td>30.07</td>\n",
       "      <td></td>\n",
       "      <td>5.5</td>\n",
       "      <td></td>\n",
       "      <td>16</td>\n",
       "      <td></td>\n",
       "      <td>7.0</td>\n",
       "      <td></td>\n",
       "      <td>23</td>\n",
       "      <td></td>\n",
       "      <td>140</td>\n",
       "      <td></td>\n",
       "      <td>20</td>\n",
       "      <td></td>\n",
       "      <td>140</td>\n",
       "      <td></td>\n",
       "    </tr>\n",
       "    <tr>\n",
       "      <th>36310</th>\n",
       "      <td>23234</td>\n",
       "      <td>20160310</td>\n",
       "      <td>64</td>\n",
       "      <td></td>\n",
       "      <td>53</td>\n",
       "      <td></td>\n",
       "      <td>59</td>\n",
       "      <td></td>\n",
       "      <td>5</td>\n",
       "      <td></td>\n",
       "      <td>55</td>\n",
       "      <td></td>\n",
       "      <td>58</td>\n",
       "      <td></td>\n",
       "      <td>6</td>\n",
       "      <td></td>\n",
       "      <td>0</td>\n",
       "      <td></td>\n",
       "      <td>0628</td>\n",
       "      <td></td>\n",
       "      <td>1811</td>\n",
       "      <td></td>\n",
       "      <td>RA BR</td>\n",
       "      <td></td>\n",
       "      <td>0</td>\n",
       "      <td></td>\n",
       "      <td>M</td>\n",
       "      <td></td>\n",
       "      <td>0.0</td>\n",
       "      <td></td>\n",
       "      <td>0.60</td>\n",
       "      <td></td>\n",
       "      <td>29.96</td>\n",
       "      <td></td>\n",
       "      <td>29.98</td>\n",
       "      <td></td>\n",
       "      <td>8.8</td>\n",
       "      <td></td>\n",
       "      <td>16</td>\n",
       "      <td></td>\n",
       "      <td>10.8</td>\n",
       "      <td></td>\n",
       "      <td>22</td>\n",
       "      <td>s</td>\n",
       "      <td>170</td>\n",
       "      <td></td>\n",
       "      <td>26</td>\n",
       "      <td></td>\n",
       "      <td>150</td>\n",
       "      <td></td>\n",
       "    </tr>\n",
       "  </tbody>\n",
       "</table>\n",
       "</div>"
      ],
      "text/plain": [
       "        WBAN  YearMonthDay Tmax TmaxFlag Tmin TminFlag Tavg TavgFlag Depart  \\\n",
       "36301  23234      20160301   70            53            62               9   \n",
       "36302  23234      20160302   67            54            61               8   \n",
       "36303  23234      20160303   64            58            61               8   \n",
       "36304  23234      20160304   64            60            62               9   \n",
       "36305  23234      20160305   65            56            61               8   \n",
       "36306  23234      20160306   61            48            55               2   \n",
       "36307  23234      20160307   58            50            54               0   \n",
       "36308  23234      20160308   57            47            52              -2   \n",
       "36309  23234      20160309   65            52            59               5   \n",
       "36310  23234      20160310   64            53            59               5   \n",
       "\n",
       "      DepartFlag DewPoint DewPointFlag WetBulb WetBulbFlag Heat HeatFlag Cool  \\\n",
       "36301                  51                   55                3             0   \n",
       "36302                  55                   57                4             0   \n",
       "36303                  56                   58                4             0   \n",
       "36304                  58                   60                3             0   \n",
       "36305                  56                   58                4             0   \n",
       "36306                  47                   51               10             0   \n",
       "36307                  46                   49               11             0   \n",
       "36308                  44                   48               13             0   \n",
       "36309                  54                   56                6             0   \n",
       "36310                  55                   58                6             0   \n",
       "\n",
       "      CoolFlag Sunrise SunriseFlag Sunset SunsetFlag   CodeSum CodeSumFlag  \\\n",
       "36301             0641               1802                                    \n",
       "36302             0640               1803                                    \n",
       "36303             0638               1804                RA DZ               \n",
       "36304             0637               1805             RA DZ BR               \n",
       "36305             0636               1806                RA BR               \n",
       "36306             0634               1807                   RA               \n",
       "36307             0633               1808                   RA               \n",
       "36308             0631               1809                   RA               \n",
       "36309             0630               1810                RA BR               \n",
       "36310             0628               1811                RA BR               \n",
       "\n",
       "      Depth DepthFlag Water1 Water1Flag SnowFall SnowFallFlag PrecipTotal  \\\n",
       "36301     0                M                 0.0                     0.00   \n",
       "36302     0                M                 0.0                     0.00   \n",
       "36303     0                M                 0.0                        T   \n",
       "36304     0                M                 0.0                     0.20   \n",
       "36305     0                M                 0.0                     1.45   \n",
       "36306     0                M                   M                     1.08   \n",
       "36307     0                M                 0.0                     0.13   \n",
       "36308     0                M                   M                        T   \n",
       "36309     0                M                 0.0                     0.08   \n",
       "36310     0                M                 0.0                     0.60   \n",
       "\n",
       "      PrecipTotalFlag StnPressure StnPressureFlag SeaLevel SeaLevelFlag  \\\n",
       "36301                       30.11                    30.13                \n",
       "36302                       30.07                    30.09                \n",
       "36303                       30.06                    30.08                \n",
       "36304                       29.94                    29.96                \n",
       "36305                       29.75                    29.77                \n",
       "36306                       29.88                    29.90                \n",
       "36307                       29.82                    29.84                \n",
       "36308                       30.08                    30.10                \n",
       "36309                       30.04                    30.07                \n",
       "36310                       29.96                    29.98                \n",
       "\n",
       "      ResultSpeed ResultSpeedFlag ResultDir ResultDirFlag AvgSpeed  \\\n",
       "36301         6.8                        29                    7.6   \n",
       "36302         4.2                        22                    6.6   \n",
       "36303         0.6                        27                    5.5   \n",
       "36304         7.2                        18                    8.3   \n",
       "36305        13.3                        17                   15.4   \n",
       "36306        10.3                        20                   13.1   \n",
       "36307        10.2                        29                   13.2   \n",
       "36308         5.5                        27                    7.6   \n",
       "36309         5.5                        16                    7.0   \n",
       "36310         8.8                        16                   10.8   \n",
       "\n",
       "      AvgSpeedFlag Max5Speed Max5SpeedFlag Max5Dir Max5DirFlag Max2Speed  \\\n",
       "36301                     25                   280                    22   \n",
       "36302                     28                   230                    21   \n",
       "36303                     19                   190                    16   \n",
       "36304                     32                   210                    26   \n",
       "36305                     53                   190                    43   \n",
       "36306                     40                   170                    32   \n",
       "36307                     45                   290                    37   \n",
       "36308                     29                   300                    22   \n",
       "36309                     23                   140                    20   \n",
       "36310                     22             s     170                    26   \n",
       "\n",
       "      Max2SpeedFlag Max2Dir Max2DirFlag  \n",
       "36301                   280              \n",
       "36302                   230              \n",
       "36303                   130              \n",
       "36304                   200              \n",
       "36305                   170              \n",
       "36306                   170              \n",
       "36307                   290              \n",
       "36308                   300              \n",
       "36309                   140              \n",
       "36310                   150              "
      ]
     },
     "execution_count": 74,
     "metadata": {},
     "output_type": "execute_result"
    }
   ],
   "source": [
    "df_temp[df_temp.WBAN == 23234].head(10)"
   ]
  },
  {
   "cell_type": "code",
   "execution_count": 75,
   "metadata": {
    "collapsed": false
   },
   "outputs": [
    {
     "name": "stdout",
     "output_type": "stream",
     "text": [
      "<class 'pandas.core.frame.DataFrame'>\n",
      "Int64Index: 66278 entries, 0 to 66277\n",
      "Data columns (total 50 columns):\n",
      "WBAN               66278 non-null int64\n",
      "YearMonthDay       66278 non-null int64\n",
      "Tmax               66278 non-null object\n",
      "TmaxFlag           66278 non-null object\n",
      "Tmin               66278 non-null object\n",
      "TminFlag           66278 non-null object\n",
      "Tavg               66278 non-null object\n",
      "TavgFlag           66278 non-null object\n",
      "Depart             66278 non-null object\n",
      "DepartFlag         66278 non-null object\n",
      "DewPoint           66278 non-null object\n",
      "DewPointFlag       66278 non-null object\n",
      "WetBulb            66278 non-null object\n",
      "WetBulbFlag        66278 non-null object\n",
      "Heat               66278 non-null object\n",
      "HeatFlag           66278 non-null object\n",
      "Cool               66278 non-null object\n",
      "CoolFlag           66278 non-null object\n",
      "Sunrise            66278 non-null object\n",
      "SunriseFlag        66278 non-null object\n",
      "Sunset             66278 non-null object\n",
      "SunsetFlag         66278 non-null object\n",
      "CodeSum            66278 non-null object\n",
      "CodeSumFlag        66278 non-null object\n",
      "Depth              66278 non-null object\n",
      "DepthFlag          66278 non-null object\n",
      "Water1             66278 non-null object\n",
      "Water1Flag         66278 non-null object\n",
      "SnowFall           66278 non-null object\n",
      "SnowFallFlag       66278 non-null object\n",
      "PrecipTotal        66278 non-null object\n",
      "PrecipTotalFlag    66278 non-null object\n",
      "StnPressure        66278 non-null object\n",
      "StnPressureFlag    66278 non-null object\n",
      "SeaLevel           66278 non-null object\n",
      "SeaLevelFlag       66278 non-null object\n",
      "ResultSpeed        66278 non-null object\n",
      "ResultSpeedFlag    66278 non-null object\n",
      "ResultDir          66278 non-null object\n",
      "ResultDirFlag      66278 non-null object\n",
      "AvgSpeed           66278 non-null object\n",
      "AvgSpeedFlag       66278 non-null object\n",
      "Max5Speed          66278 non-null object\n",
      "Max5SpeedFlag      66278 non-null object\n",
      "Max5Dir            66278 non-null object\n",
      "Max5DirFlag        66278 non-null object\n",
      "Max2Speed          66278 non-null object\n",
      "Max2SpeedFlag      66278 non-null object\n",
      "Max2Dir            66278 non-null object\n",
      "Max2DirFlag        66278 non-null object\n",
      "dtypes: int64(2), object(48)\n",
      "memory usage: 25.8+ MB\n"
     ]
    }
   ],
   "source": [
    "df_temp.info()"
   ]
  },
  {
   "cell_type": "markdown",
   "metadata": {},
   "source": [
    "## BART 2015 Daily Exits"
   ]
  },
  {
   "cell_type": "code",
   "execution_count": null,
   "metadata": {
    "collapsed": true
   },
   "outputs": [],
   "source": [
    "df_bart = pd.read_csv('../data/bart/bart_exits.csv', parse_dates=['Date'])"
   ]
  },
  {
   "cell_type": "code",
   "execution_count": null,
   "metadata": {
    "collapsed": false
   },
   "outputs": [],
   "source": [
    "df_bart = df_bart[:365]"
   ]
  },
  {
   "cell_type": "code",
   "execution_count": null,
   "metadata": {
    "collapsed": false
   },
   "outputs": [],
   "source": [
    "df_bart.set_index('Date', inplace=True)"
   ]
  },
  {
   "cell_type": "code",
   "execution_count": null,
   "metadata": {
    "collapsed": false
   },
   "outputs": [],
   "source": [
    "scaler_bart = preprocessing.StandardScaler()"
   ]
  },
  {
   "cell_type": "code",
   "execution_count": null,
   "metadata": {
    "collapsed": false
   },
   "outputs": [],
   "source": [
    "df_bart.EM.describe()"
   ]
  },
  {
   "cell_type": "code",
   "execution_count": null,
   "metadata": {
    "collapsed": false
   },
   "outputs": [],
   "source": [
    "pd.DataFrame(scaler_bart.fit_transform(df_bart[['EM','MT']]), \n",
    "             columns = ['EM_scaled','MT_scaled']).head()"
   ]
  },
  {
   "cell_type": "code",
   "execution_count": null,
   "metadata": {
    "collapsed": false
   },
   "outputs": [],
   "source": [
    "# df_bart[['EM_scaled','MT_scaled']] = pd.DataFrame(scaler_bart.fit_transform(df_bart[['EM','MT']]))"
   ]
  },
  {
   "cell_type": "code",
   "execution_count": null,
   "metadata": {
    "collapsed": true
   },
   "outputs": [],
   "source": [
    "df_bart =  df_bart[(df_bart.Day != 'sa') & (df_bart.Day != 'su') & (df_bart.Day != 'hol')]"
   ]
  },
  {
   "cell_type": "code",
   "execution_count": null,
   "metadata": {
    "collapsed": false
   },
   "outputs": [],
   "source": [
    "df_bart['EM_scaled'] = (df_bart.EM - df_bart.EM.mean()) / (df_bart.EM.std(ddof=0)) * 1.2\n",
    "df_bart['MT_scaled'] = (df_bart.MT - df_bart.MT.mean()) / (df_bart.MT.std(ddof=0)) * 1.2"
   ]
  },
  {
   "cell_type": "code",
   "execution_count": null,
   "metadata": {
    "collapsed": false
   },
   "outputs": [],
   "source": [
    "df_bart.head(5)"
   ]
  },
  {
   "cell_type": "code",
   "execution_count": null,
   "metadata": {
    "collapsed": false
   },
   "outputs": [],
   "source": [
    "df_bart.Day.unique()"
   ]
  },
  {
   "cell_type": "code",
   "execution_count": null,
   "metadata": {
    "collapsed": false
   },
   "outputs": [],
   "source": [
    "df_bart['EM'].plot(figsize=(20,5))"
   ]
  },
  {
   "cell_type": "code",
   "execution_count": null,
   "metadata": {
    "collapsed": false
   },
   "outputs": [],
   "source": [
    "df_bart.iloc[90:180]['EM'].plot(figsize=(12,5))"
   ]
  },
  {
   "cell_type": "code",
   "execution_count": null,
   "metadata": {
    "collapsed": false
   },
   "outputs": [],
   "source": [
    "df_bart['EM'].describe()"
   ]
  },
  {
   "cell_type": "code",
   "execution_count": null,
   "metadata": {
    "collapsed": false
   },
   "outputs": [],
   "source": [
    "df_bart[(df_bart.Day != 'sa') & (df_bart.Day != 'su')]['EM'].plot(figsize=(20,5))"
   ]
  },
  {
   "cell_type": "code",
   "execution_count": null,
   "metadata": {
    "collapsed": false
   },
   "outputs": [],
   "source": [
    "df_bart[(df_bart.Day != 'sa') & (df_bart.Day != 'su')][['EM','MT']].plot(kind='box',figsize=(8,8))"
   ]
  },
  {
   "cell_type": "code",
   "execution_count": null,
   "metadata": {
    "collapsed": false
   },
   "outputs": [],
   "source": [
    "df_bart[(df_bart.Day != 'sa') & (df_bart.Day != 'su')]['EM'].describe()"
   ]
  },
  {
   "cell_type": "code",
   "execution_count": null,
   "metadata": {
    "collapsed": false
   },
   "outputs": [],
   "source": [
    "df_bart.iloc[330:360][(df_bart.Day != 'sa') & (df_bart.Day != 'su')]['EM'].plot(figsize=(20,5))"
   ]
  },
  {
   "cell_type": "code",
   "execution_count": null,
   "metadata": {
    "collapsed": false
   },
   "outputs": [],
   "source": [
    "df_bart[(df_bart['Month'] == 'October') & (df_bart.Day != 'sa') & (df_bart.Day != 'su')]['EM'].plot(figsize=(20,5))"
   ]
  },
  {
   "cell_type": "markdown",
   "metadata": {},
   "source": [
    "## BART Hourly Exits"
   ]
  },
  {
   "cell_type": "code",
   "execution_count": null,
   "metadata": {
    "collapsed": false
   },
   "outputs": [],
   "source": [
    "# df_bart_2014 = pd.read_csv('../data/bart/date-hour-soo-dest-2014.csv.gz', \n",
    "#                            compression='gzip', header=None, parse_dates=[0],\n",
    "#                            names = ['date', 'hour', 'origin', 'exit', 'counts'])"
   ]
  },
  {
   "cell_type": "code",
   "execution_count": null,
   "metadata": {
    "collapsed": true
   },
   "outputs": [],
   "source": [
    "# dateparse = lambda x: pd.datetime.strptime(x, '%Y-%m-%d %H')\n",
    "\n",
    "# df_bart_2011 = pd.read_csv('../data/bart/date-hour-soo-dest-2011.csv.gz', \n",
    "#                            compression='gzip', header=None, parse_dates={'datetime': [0, 1]}, date_parser=dateparse)"
   ]
  },
  {
   "cell_type": "code",
   "execution_count": null,
   "metadata": {
    "collapsed": true
   },
   "outputs": [],
   "source": [
    "df_bart_2015 = pd.read_csv('../data/bart/date-hour-soo-dest-2015.csv.gz', \n",
    "                           compression='gzip', header=None)"
   ]
  },
  {
   "cell_type": "code",
   "execution_count": null,
   "metadata": {
    "collapsed": true
   },
   "outputs": [],
   "source": [
    "df_bart_2015.columns=['date', 'hour', 'origin', 'exit', 'counts']"
   ]
  },
  {
   "cell_type": "code",
   "execution_count": null,
   "metadata": {
    "collapsed": false
   },
   "outputs": [],
   "source": [
    "df_bart_2015[(df_bart_2015['hour'] >= 5) & (df_bart_2015['hour'] <= 11)]"
   ]
  },
  {
   "cell_type": "code",
   "execution_count": null,
   "metadata": {
    "collapsed": false
   },
   "outputs": [],
   "source": [
    "df_bart_2015[(df_bart_2015['hour'] >= 6) & (df_bart_2015['hour'] <= 10)].groupby('exit').count().plot(kind='bar', figsize=(12,5))"
   ]
  },
  {
   "cell_type": "code",
   "execution_count": null,
   "metadata": {
    "collapsed": false
   },
   "outputs": [],
   "source": [
    "df_bart_2011 = pd.read_csv('../data/bart/date-hour-soo-dest-2011.csv.gz', \n",
    "                           compression='gzip', header=None, parse_dates=[0])\n",
    "df_bart_2012 = pd.read_csv('../data/bart/date-hour-soo-dest-2012.csv.gz', \n",
    "                           compression='gzip', header=None, parse_dates=[0])\n",
    "df_bart_2013 = pd.read_csv('../data/bart/date-hour-soo-dest-2013.csv.gz', \n",
    "                           compression='gzip', header=None, parse_dates=[0])\n",
    "df_bart_2014 = pd.read_csv('../data/bart/date-hour-soo-dest-2014.csv.gz', \n",
    "                           compression='gzip', header=None, parse_dates=[0])\n",
    "df_bart_2015 = pd.read_csv('../data/bart/date-hour-soo-dest-2015.csv.gz', \n",
    "                           compression='gzip', header=None, parse_dates=[0])"
   ]
  },
  {
   "cell_type": "code",
   "execution_count": null,
   "metadata": {
    "collapsed": false
   },
   "outputs": [],
   "source": [
    "df_bart_2011.columns=['date', 'hour', 'origin', 'exit', 'counts']"
   ]
  },
  {
   "cell_type": "code",
   "execution_count": null,
   "metadata": {
    "collapsed": false
   },
   "outputs": [],
   "source": [
    "df_bart_2011 = df_bart_2011[df_bart_2011['exit'].isin(['EM','MT'])]\n",
    "df_bart_2011"
   ]
  },
  {
   "cell_type": "code",
   "execution_count": null,
   "metadata": {
    "collapsed": true
   },
   "outputs": [],
   "source": [
    "df_bart_2011['hour'] = df_bart_2011.hour.astype(str)"
   ]
  },
  {
   "cell_type": "code",
   "execution_count": null,
   "metadata": {
    "collapsed": false
   },
   "outputs": [],
   "source": [
    "df_bart_2011['date'] = pd.to_datetime(df_bart_2011['date'] + '-' + df_bart_2011['hour'], format='%Y-%m-%d-%H')"
   ]
  },
  {
   "cell_type": "code",
   "execution_count": null,
   "metadata": {
    "collapsed": false
   },
   "outputs": [],
   "source": [
    "df_bart_2011"
   ]
  },
  {
   "cell_type": "code",
   "execution_count": null,
   "metadata": {
    "collapsed": false
   },
   "outputs": [],
   "source": [
    "    path =r'../data/bart/'\n",
    "    filenames = glob.glob(path + \"/*.csv.gz\")\n",
    "    for i, filename in enumerate (filenames):\n",
    "        print i+1, filename\n"
   ]
  },
  {
   "cell_type": "code",
   "execution_count": null,
   "metadata": {
    "collapsed": true
   },
   "outputs": [],
   "source": [
    "df_bart = pd.read_pickle('../data/bart/df_bart.pkl')"
   ]
  },
  {
   "cell_type": "code",
   "execution_count": null,
   "metadata": {
    "collapsed": false
   },
   "outputs": [],
   "source": [
    "df_bart"
   ]
  },
  {
   "cell_type": "code",
   "execution_count": null,
   "metadata": {
    "collapsed": false
   },
   "outputs": [],
   "source": [
    "# df_bart = pd.concat([df_bart_2011, df_bart_2012, df_bart_2013, df_bart_2014, df_bart_2015], axis=0)"
   ]
  },
  {
   "cell_type": "code",
   "execution_count": null,
   "metadata": {
    "collapsed": false
   },
   "outputs": [],
   "source": [
    "df_bart.info()"
   ]
  },
  {
   "cell_type": "code",
   "execution_count": null,
   "metadata": {
    "collapsed": false
   },
   "outputs": [],
   "source": [
    "df_bart.head()"
   ]
  },
  {
   "cell_type": "code",
   "execution_count": null,
   "metadata": {
    "collapsed": false
   },
   "outputs": [],
   "source": [
    "df_bart.set_index(0, inplace=True)"
   ]
  },
  {
   "cell_type": "code",
   "execution_count": null,
   "metadata": {
    "collapsed": false
   },
   "outputs": [],
   "source": [
    "df_bart_2011.tail()"
   ]
  },
  {
   "cell_type": "code",
   "execution_count": null,
   "metadata": {
    "collapsed": false
   },
   "outputs": [],
   "source": [
    "df_bart_2012.head()"
   ]
  },
  {
   "cell_type": "code",
   "execution_count": null,
   "metadata": {
    "collapsed": false
   },
   "outputs": [],
   "source": [
    "[df_bart_2012['0'].unique(),\n",
    "df_bart_2012['12'].unique(),\n",
    "df_bart_2012['24'].unique(),\n",
    "df_bart_2012['7'].unique()]"
   ]
  },
  {
   "cell_type": "code",
   "execution_count": null,
   "metadata": {
    "collapsed": false
   },
   "outputs": [],
   "source": [
    "df_bart_2013.head()"
   ]
  },
  {
   "cell_type": "code",
   "execution_count": null,
   "metadata": {
    "collapsed": false,
    "scrolled": true
   },
   "outputs": [],
   "source": [
    "df_bart_2013.info()"
   ]
  },
  {
   "cell_type": "code",
   "execution_count": null,
   "metadata": {
    "collapsed": false
   },
   "outputs": [],
   "source": [
    "df_bart.resample('W', how ='sum')[4].plot(figsize=(20,5))"
   ]
  },
  {
   "cell_type": "code",
   "execution_count": null,
   "metadata": {
    "collapsed": false
   },
   "outputs": [],
   "source": [
    "df_bart.resample('D', how ='sum')[4].plot(figsize=(20,5))"
   ]
  },
  {
   "cell_type": "code",
   "execution_count": null,
   "metadata": {
    "collapsed": false
   },
   "outputs": [],
   "source": [
    "df_bart_2014.set_index('date', inplace=True)"
   ]
  },
  {
   "cell_type": "code",
   "execution_count": null,
   "metadata": {
    "collapsed": false
   },
   "outputs": [],
   "source": [
    "df_bart_2014[df_bart_2014.index.weekday <= 4]['counts'].plot(figsize=(20,5))"
   ]
  },
  {
   "cell_type": "code",
   "execution_count": null,
   "metadata": {
    "collapsed": false
   },
   "outputs": [],
   "source": [
    "df_bart_2014[df_bart_2014.index.weekday <= 4]"
   ]
  },
  {
   "cell_type": "code",
   "execution_count": null,
   "metadata": {
    "collapsed": false
   },
   "outputs": [],
   "source": [
    "pd.DatetimeIndex(df_bart_2014['hour'])"
   ]
  },
  {
   "cell_type": "markdown",
   "metadata": {},
   "source": [
    "## SFMTA Raw Data"
   ]
  },
  {
   "cell_type": "code",
   "execution_count": null,
   "metadata": {
    "collapsed": false
   },
   "outputs": [],
   "source": [
    "df_sfmta = pd.read_table(zipfile.ZipFile('data_sfmta/OCT15APCSTP.zip').open('OCT15APCSTP.dat'), sep='\\t')"
   ]
  },
  {
   "cell_type": "code",
   "execution_count": null,
   "metadata": {
    "collapsed": false
   },
   "outputs": [],
   "source": [
    "df_sfmta.head(5)"
   ]
  },
  {
   "cell_type": "code",
   "execution_count": null,
   "metadata": {
    "collapsed": false
   },
   "outputs": [],
   "source": [
    "df_sfmta[['DIR','QSTOP','TIMESTOP', 'DOORCLOSE', 'PULLOUT', 'TRIPCODE', 'LAT', 'LONG', 'DOW', 'ON', 'OFF']].head()"
   ]
  },
  {
   "cell_type": "markdown",
   "metadata": {},
   "source": [
    "## NOAA Hourly Data"
   ]
  },
  {
   "cell_type": "code",
   "execution_count": null,
   "metadata": {
    "collapsed": false
   },
   "outputs": [],
   "source": [
    "path =r'../data/noaa/hourly/'\n",
    "filenames = glob.glob(path + \"/*hourly.txt.gz\")"
   ]
  },
  {
   "cell_type": "code",
   "execution_count": null,
   "metadata": {
    "collapsed": false
   },
   "outputs": [],
   "source": [
    "for i, filename in enumerate (filenames):\n",
    "    print i+1, filename"
   ]
  },
  {
   "cell_type": "code",
   "execution_count": null,
   "metadata": {
    "collapsed": false
   },
   "outputs": [],
   "source": [
    "df_list = []\n",
    "for filename in filenames:\n",
    "    df_temp = pd.read_csv(filename,\n",
    "            parse_dates={'date': ['Date','Time']},\n",
    "            compression='gzip',\n",
    "            nrows=100,\n",
    "            usecols=['WBAN', 'Date', 'Time','StationType', 'SkyCondition', 'Visibility',\n",
    "                    'WeatherType', 'DryBulbFarenheit', 'WetBulbFarenheit','DewPointFarenheit',\n",
    "                    'RelativeHumidity', 'WindSpeed', 'StationPressure', 'PressureTendency',\n",
    "                    'SeaLevelPressure', 'RecordType', 'HourlyPrecip', 'Altimeter'])\n",
    "    df_list.append(df_temp)"
   ]
  },
  {
   "cell_type": "code",
   "execution_count": null,
   "metadata": {
    "collapsed": true
   },
   "outputs": [],
   "source": [
    "df_noaa_all = pd.concat(df_list, ignore_index=True, axis=0)"
   ]
  },
  {
   "cell_type": "code",
   "execution_count": null,
   "metadata": {
    "collapsed": true
   },
   "outputs": [],
   "source": [
    "df_noaa = df_noaa_all[df_noaa_all.WBAN == 23234]"
   ]
  },
  {
   "cell_type": "code",
   "execution_count": null,
   "metadata": {
    "collapsed": false
   },
   "outputs": [],
   "source": [
    "df_noaa_all"
   ]
  },
  {
   "cell_type": "code",
   "execution_count": null,
   "metadata": {
    "collapsed": false
   },
   "outputs": [],
   "source": [
    "df_noaa_all.to_pickle('../data/noaa/df_noaa_all.pkl')\n",
    "df_noaa.to_pickle('../data/noaa/df_noaa.pkl')"
   ]
  },
  {
   "cell_type": "code",
   "execution_count": null,
   "metadata": {
    "collapsed": false
   },
   "outputs": [],
   "source": [
    "# df_noaa_all = pd.read_pickle('../data/noaa/df_noaa_all.pkl')\n",
    "df_noaa = pd.read_pickle('../data/noaa/hourly/df_noaa.pkl')"
   ]
  },
  {
   "cell_type": "code",
   "execution_count": null,
   "metadata": {
    "collapsed": false
   },
   "outputs": [],
   "source": [
    "df_noaa.ix[5995:,]"
   ]
  },
  {
   "cell_type": "code",
   "execution_count": null,
   "metadata": {
    "collapsed": false
   },
   "outputs": [],
   "source": [
    "df_noaa.info()"
   ]
  },
  {
   "cell_type": "code",
   "execution_count": null,
   "metadata": {
    "collapsed": false
   },
   "outputs": [],
   "source": [
    "# df_noaa = pd.read_csv(zipfile.ZipFile('../data/noaa/QCLCD201507.zip').open('201507hourly.txt'))\n",
    "# df_noaa_daily = pd.read_csv('../data/noaa/daily/201505daily.txt.gz')\n",
    "df_noaa_hourly = pd.read_csv('../data/noaa/hourly/201101hourly.txt.gz',\n",
    "                            nrows=100)"
   ]
  },
  {
   "cell_type": "code",
   "execution_count": null,
   "metadata": {
    "collapsed": false
   },
   "outputs": [],
   "source": [
    "df_noaa_hourly.head()"
   ]
  },
  {
   "cell_type": "code",
   "execution_count": null,
   "metadata": {
    "collapsed": false
   },
   "outputs": [],
   "source": [
    "df_noaa_hourly['Time'] = df_noaa_hourly['Time'].astype(str)\n",
    "df_noaa_hourly['Date'] = df_noaa_hourly['Date'].astype(str)\n",
    "# df_noaa_hourly['year'] = df_noaa_hourly['Date'].str.slice(0,-4)\n",
    "# df_noaa_hourly['month'] = df_noaa_hourly['Date'].str.slice(-4,-2)\n",
    "# df_noaa_hourly['day'] = df_noaa_hourly['Date'].str.slice(-2)"
   ]
  },
  {
   "cell_type": "code",
   "execution_count": null,
   "metadata": {
    "collapsed": false
   },
   "outputs": [],
   "source": [
    "# fill missing zeros\n",
    "df_noaa_hourly['Time'] = df_noaa_hourly['Time'].str.zfill(4)"
   ]
  },
  {
   "cell_type": "code",
   "execution_count": null,
   "metadata": {
    "collapsed": false
   },
   "outputs": [],
   "source": [
    "df_noaa_hourly['hour'] = df_noaa_hourly['Time'].str.slice(0,-2)\n",
    "df_noaa_hourly['mins'] = df_noaa_hourly['Time'].str.slice(-2)"
   ]
  },
  {
   "cell_type": "code",
   "execution_count": null,
   "metadata": {
    "collapsed": false
   },
   "outputs": [],
   "source": [
    "# for x in xrange(len(df_noaa_hourly)):\n",
    "#     if len(df_noaa_hourly['hour'][x]) < 2:\n",
    "#         df_noaa_hourly['hour'][x] = '0' + df_noaa_hourly['hour'][x]"
   ]
  },
  {
   "cell_type": "code",
   "execution_count": null,
   "metadata": {
    "collapsed": false
   },
   "outputs": [],
   "source": [
    "# CONVERT TO DATETIME\n",
    "# df_noaa_hourly['timestamp'] = [[df_noaa_hourly.year, df_noaa_hourly.month, df_noaa_hourly.day, df_noaa_hourly.hour,\n",
    "#                                df_noaa_hourly.mins]].apply(lambda x: '-'.join(x), axis=1)\n",
    "\n",
    "# df_noaa_hourly['period'] = df_noaa_hourly[['year', 'month', 'day',\n",
    "#                                            'hour', 'mins']].apply(lambda x: '-'.join(x), axis=1)\n",
    "# df_noaa_hourly['time'] = df_noaa_hourly[['hour', 'mins']].apply(lambda x: '-'.join(x), axis=1)"
   ]
  },
  {
   "cell_type": "code",
   "execution_count": null,
   "metadata": {
    "collapsed": false
   },
   "outputs": [],
   "source": [
    "df_noaa_hourly.head()"
   ]
  },
  {
   "cell_type": "code",
   "execution_count": null,
   "metadata": {
    "collapsed": false
   },
   "outputs": [],
   "source": [
    "df_noaa_hourly['timestamp'] = pd.to_datetime(df_noaa_hourly['Date'] + \\\n",
    "                            ' ' + df_noaa_hourly['hour'] + ' ' + df_noaa_hourly['mins'], format='%Y%m%d %H %M')"
   ]
  },
  {
   "cell_type": "code",
   "execution_count": null,
   "metadata": {
    "collapsed": false
   },
   "outputs": [],
   "source": [
    "df_noaa_hourly.head()"
   ]
  },
  {
   "cell_type": "code",
   "execution_count": null,
   "metadata": {
    "collapsed": true
   },
   "outputs": [],
   "source": [
    "# df_noaa.columns = map(str.lower, df_noaa.columns)"
   ]
  },
  {
   "cell_type": "code",
   "execution_count": null,
   "metadata": {
    "collapsed": false
   },
   "outputs": [],
   "source": [
    "df_noaa.set_index('Date', inplace=True)"
   ]
  },
  {
   "cell_type": "code",
   "execution_count": null,
   "metadata": {
    "collapsed": false
   },
   "outputs": [],
   "source": [
    "df_noaa.groupby('DryBulbFarenheit').count().head()"
   ]
  },
  {
   "cell_type": "code",
   "execution_count": null,
   "metadata": {
    "collapsed": false,
    "scrolled": true
   },
   "outputs": [],
   "source": [
    "df_noaa[df_noaa.WBAN == 23234]"
   ]
  },
  {
   "cell_type": "code",
   "execution_count": null,
   "metadata": {
    "collapsed": false
   },
   "outputs": [],
   "source": [
    "pd.unique(df_noaa.columns.ravel())"
   ]
  },
  {
   "cell_type": "markdown",
   "metadata": {},
   "source": [
    "## Forecast.io data"
   ]
  },
  {
   "cell_type": "code",
   "execution_count": 3,
   "metadata": {
    "collapsed": false
   },
   "outputs": [],
   "source": [
    "with open('../data/forecastio/weather.json', \"r\") as f:\n",
    "  data = json.loads(f.read())"
   ]
  },
  {
   "cell_type": "code",
   "execution_count": 4,
   "metadata": {
    "collapsed": false
   },
   "outputs": [
    {
     "data": {
      "text/plain": [
       "[{u'apparentTemperature': 62.15,\n",
       "  u'cloudCover': 1,\n",
       "  u'dewPoint': 59.37,\n",
       "  u'humidity': 0.91,\n",
       "  u'icon': u'rain',\n",
       "  u'ozone': 337.87,\n",
       "  u'precipIntensity': 0.028,\n",
       "  u'precipProbability': 0.65,\n",
       "  u'precipType': u'rain',\n",
       "  u'pressure': 1013.87,\n",
       "  u'summary': u'Light Rain',\n",
       "  u'temperature': 62.15,\n",
       "  u'time': 1457136000,\n",
       "  u'visibility': 5.3,\n",
       "  u'windBearing': 188,\n",
       "  u'windSpeed': 9.08},\n",
       " {u'apparentTemperature': 61.93,\n",
       "  u'cloudCover': 1,\n",
       "  u'dewPoint': 59.23,\n",
       "  u'humidity': 0.91,\n",
       "  u'icon': u'rain',\n",
       "  u'ozone': 338.57,\n",
       "  u'precipIntensity': 0.0134,\n",
       "  u'precipProbability': 0.71,\n",
       "  u'precipType': u'rain',\n",
       "  u'pressure': 1013.7,\n",
       "  u'summary': u'Light Rain',\n",
       "  u'temperature': 61.93,\n",
       "  u'time': 1457139600,\n",
       "  u'visibility': 4.86,\n",
       "  u'windBearing': 188,\n",
       "  u'windSpeed': 11.07},\n",
       " {u'apparentTemperature': 61.81,\n",
       "  u'cloudCover': 1,\n",
       "  u'dewPoint': 59.55,\n",
       "  u'humidity': 0.92,\n",
       "  u'icon': u'rain',\n",
       "  u'ozone': 338.82,\n",
       "  u'precipIntensity': 0.0181,\n",
       "  u'precipProbability': 0.64,\n",
       "  u'precipType': u'rain',\n",
       "  u'pressure': 1013.6,\n",
       "  u'summary': u'Light Rain',\n",
       "  u'temperature': 61.81,\n",
       "  u'time': 1457143200,\n",
       "  u'visibility': 4.72,\n",
       "  u'windBearing': 193,\n",
       "  u'windSpeed': 11.62},\n",
       " {u'apparentTemperature': 62,\n",
       "  u'cloudCover': 1,\n",
       "  u'dewPoint': 59.78,\n",
       "  u'humidity': 0.92,\n",
       "  u'icon': u'rain',\n",
       "  u'ozone': 339.39,\n",
       "  u'precipIntensity': 0.025,\n",
       "  u'precipProbability': 0.64,\n",
       "  u'precipType': u'rain',\n",
       "  u'pressure': 1013.55,\n",
       "  u'summary': u'Light Rain',\n",
       "  u'temperature': 62,\n",
       "  u'time': 1457146800,\n",
       "  u'visibility': 4.56,\n",
       "  u'windBearing': 196,\n",
       "  u'windSpeed': 11.23},\n",
       " {u'apparentTemperature': 62.04,\n",
       "  u'cloudCover': 1,\n",
       "  u'dewPoint': 59.89,\n",
       "  u'humidity': 0.93,\n",
       "  u'icon': u'rain',\n",
       "  u'ozone': 340.82,\n",
       "  u'precipIntensity': 0.0218,\n",
       "  u'precipProbability': 0.62,\n",
       "  u'precipType': u'rain',\n",
       "  u'pressure': 1013.58,\n",
       "  u'summary': u'Light Rain',\n",
       "  u'temperature': 62.04,\n",
       "  u'time': 1457150400,\n",
       "  u'visibility': 4.65,\n",
       "  u'windBearing': 196,\n",
       "  u'windSpeed': 11.2},\n",
       " {u'apparentTemperature': 61.79,\n",
       "  u'cloudCover': 0.99,\n",
       "  u'dewPoint': 60.03,\n",
       "  u'humidity': 0.94,\n",
       "  u'icon': u'rain',\n",
       "  u'ozone': 342.57,\n",
       "  u'precipIntensity': 0.0462,\n",
       "  u'precipProbability': 0.71,\n",
       "  u'precipType': u'rain',\n",
       "  u'pressure': 1013.66,\n",
       "  u'summary': u'Light Rain',\n",
       "  u'temperature': 61.79,\n",
       "  u'time': 1457154000,\n",
       "  u'visibility': 4.52,\n",
       "  u'windBearing': 192,\n",
       "  u'windSpeed': 10.96},\n",
       " {u'apparentTemperature': 60.9,\n",
       "  u'cloudCover': 0.99,\n",
       "  u'dewPoint': 59.17,\n",
       "  u'humidity': 0.94,\n",
       "  u'icon': u'rain',\n",
       "  u'ozone': 343.88,\n",
       "  u'precipIntensity': 0.043,\n",
       "  u'precipProbability': 0.7,\n",
       "  u'precipType': u'rain',\n",
       "  u'pressure': 1013.67,\n",
       "  u'summary': u'Light Rain',\n",
       "  u'temperature': 60.9,\n",
       "  u'time': 1457157600,\n",
       "  u'visibility': 4.65,\n",
       "  u'windBearing': 192,\n",
       "  u'windSpeed': 11.27},\n",
       " {u'apparentTemperature': 60.37,\n",
       "  u'cloudCover': 0.99,\n",
       "  u'dewPoint': 58.83,\n",
       "  u'humidity': 0.95,\n",
       "  u'icon': u'rain',\n",
       "  u'ozone': 344.64,\n",
       "  u'precipIntensity': 0.0571,\n",
       "  u'precipProbability': 0.74,\n",
       "  u'precipType': u'rain',\n",
       "  u'pressure': 1013.59,\n",
       "  u'summary': u'Rain',\n",
       "  u'temperature': 60.37,\n",
       "  u'time': 1457161200,\n",
       "  u'visibility': 4.74,\n",
       "  u'windBearing': 195,\n",
       "  u'windSpeed': 10.74},\n",
       " {u'apparentTemperature': 59.98,\n",
       "  u'cloudCover': 1,\n",
       "  u'dewPoint': 58.52,\n",
       "  u'humidity': 0.95,\n",
       "  u'icon': u'rain',\n",
       "  u'ozone': 344.96,\n",
       "  u'precipIntensity': 0.0521,\n",
       "  u'precipProbability': 0.73,\n",
       "  u'precipType': u'rain',\n",
       "  u'pressure': 1013.45,\n",
       "  u'summary': u'Light Rain',\n",
       "  u'temperature': 59.98,\n",
       "  u'time': 1457164800,\n",
       "  u'visibility': 4.19,\n",
       "  u'windBearing': 201,\n",
       "  u'windSpeed': 11.38},\n",
       " {u'apparentTemperature': 59.72,\n",
       "  u'cloudCover': 1,\n",
       "  u'dewPoint': 58.33,\n",
       "  u'humidity': 0.95,\n",
       "  u'icon': u'rain',\n",
       "  u'ozone': 344.49,\n",
       "  u'precipIntensity': 0.0178,\n",
       "  u'precipProbability': 0.59,\n",
       "  u'precipType': u'rain',\n",
       "  u'pressure': 1013.28,\n",
       "  u'summary': u'Light Rain',\n",
       "  u'temperature': 59.72,\n",
       "  u'time': 1457168400,\n",
       "  u'visibility': 3.81,\n",
       "  u'windBearing': 208,\n",
       "  u'windSpeed': 11.87},\n",
       " {u'apparentTemperature': 59.42,\n",
       "  u'cloudCover': 1,\n",
       "  u'dewPoint': 58.04,\n",
       "  u'humidity': 0.95,\n",
       "  u'icon': u'rain',\n",
       "  u'ozone': 342.72,\n",
       "  u'precipIntensity': 0.0103,\n",
       "  u'precipProbability': 0.51,\n",
       "  u'precipType': u'rain',\n",
       "  u'pressure': 1013.12,\n",
       "  u'summary': u'Light Rain',\n",
       "  u'temperature': 59.42,\n",
       "  u'time': 1457172000,\n",
       "  u'visibility': 3.39,\n",
       "  u'windBearing': 209,\n",
       "  u'windSpeed': 11.68},\n",
       " {u'apparentTemperature': 59.19,\n",
       "  u'cloudCover': 1,\n",
       "  u'dewPoint': 57.71,\n",
       "  u'humidity': 0.95,\n",
       "  u'icon': u'rain',\n",
       "  u'ozone': 340.16,\n",
       "  u'precipIntensity': 0.0071,\n",
       "  u'precipProbability': 0.35,\n",
       "  u'precipType': u'rain',\n",
       "  u'pressure': 1012.93,\n",
       "  u'summary': u'Drizzle',\n",
       "  u'temperature': 59.19,\n",
       "  u'time': 1457175600,\n",
       "  u'visibility': 3.52,\n",
       "  u'windBearing': 205,\n",
       "  u'windSpeed': 11.07},\n",
       " {u'apparentTemperature': 59.26,\n",
       "  u'cloudCover': 0.99,\n",
       "  u'dewPoint': 57.52,\n",
       "  u'humidity': 0.94,\n",
       "  u'icon': u'rain',\n",
       "  u'ozone': 337.95,\n",
       "  u'precipIntensity': 0.0068,\n",
       "  u'precipProbability': 0.33,\n",
       "  u'precipType': u'rain',\n",
       "  u'pressure': 1012.67,\n",
       "  u'summary': u'Drizzle',\n",
       "  u'temperature': 59.26,\n",
       "  u'time': 1457179200,\n",
       "  u'visibility': 3.83,\n",
       "  u'windBearing': 195,\n",
       "  u'windSpeed': 10.88},\n",
       " {u'apparentTemperature': 59.23,\n",
       "  u'cloudCover': 0.99,\n",
       "  u'dewPoint': 57.48,\n",
       "  u'humidity': 0.94,\n",
       "  u'icon': u'cloudy',\n",
       "  u'ozone': 336.79,\n",
       "  u'precipIntensity': 0.0043,\n",
       "  u'precipProbability': 0.17,\n",
       "  u'precipType': u'rain',\n",
       "  u'pressure': 1012.28,\n",
       "  u'summary': u'Overcast',\n",
       "  u'temperature': 59.23,\n",
       "  u'time': 1457182800,\n",
       "  u'visibility': 4.3,\n",
       "  u'windBearing': 187,\n",
       "  u'windSpeed': 11.22},\n",
       " {u'apparentTemperature': 59.22,\n",
       "  u'cloudCover': 0.98,\n",
       "  u'dewPoint': 57.63,\n",
       "  u'humidity': 0.94,\n",
       "  u'icon': u'rain',\n",
       "  u'ozone': 335.99,\n",
       "  u'precipIntensity': 0.0105,\n",
       "  u'precipProbability': 0.52,\n",
       "  u'precipType': u'rain',\n",
       "  u'pressure': 1011.81,\n",
       "  u'summary': u'Light Rain',\n",
       "  u'temperature': 59.22,\n",
       "  u'time': 1457186400,\n",
       "  u'visibility': 4.31,\n",
       "  u'windBearing': 184,\n",
       "  u'windSpeed': 9.86},\n",
       " {u'apparentTemperature': 59.66,\n",
       "  u'cloudCover': 0.98,\n",
       "  u'dewPoint': 57.92,\n",
       "  u'humidity': 0.94,\n",
       "  u'icon': u'rain',\n",
       "  u'ozone': 334.57,\n",
       "  u'precipIntensity': 0.006,\n",
       "  u'precipProbability': 0.27,\n",
       "  u'precipType': u'rain',\n",
       "  u'pressure': 1011.42,\n",
       "  u'summary': u'Drizzle',\n",
       "  u'temperature': 59.66,\n",
       "  u'time': 1457190000,\n",
       "  u'visibility': 4.35,\n",
       "  u'windBearing': 175,\n",
       "  u'windSpeed': 11.04},\n",
       " {u'apparentTemperature': 60.42,\n",
       "  u'cloudCover': 0.96,\n",
       "  u'dewPoint': 58.02,\n",
       "  u'humidity': 0.92,\n",
       "  u'icon': u'cloudy',\n",
       "  u'ozone': 331.67,\n",
       "  u'precipIntensity': 0.0042,\n",
       "  u'precipProbability': 0.16,\n",
       "  u'precipType': u'rain',\n",
       "  u'pressure': 1011.26,\n",
       "  u'summary': u'Overcast',\n",
       "  u'temperature': 60.42,\n",
       "  u'time': 1457193600,\n",
       "  u'visibility': 5.5,\n",
       "  u'windBearing': 179,\n",
       "  u'windSpeed': 12.23},\n",
       " {u'apparentTemperature': 61.17,\n",
       "  u'cloudCover': 0.94,\n",
       "  u'dewPoint': 58.7,\n",
       "  u'humidity': 0.92,\n",
       "  u'icon': u'rain',\n",
       "  u'ozone': 328.16,\n",
       "  u'precipIntensity': 0.0096,\n",
       "  u'precipProbability': 0.5,\n",
       "  u'precipType': u'rain',\n",
       "  u'pressure': 1011.19,\n",
       "  u'summary': u'Light Rain',\n",
       "  u'temperature': 61.17,\n",
       "  u'time': 1457197200,\n",
       "  u'visibility': 6.1,\n",
       "  u'windBearing': 182,\n",
       "  u'windSpeed': 13.74},\n",
       " {u'apparentTemperature': 62.02,\n",
       "  u'cloudCover': 0.93,\n",
       "  u'dewPoint': 59.16,\n",
       "  u'humidity': 0.9,\n",
       "  u'icon': u'rain',\n",
       "  u'ozone': 325.69,\n",
       "  u'precipIntensity': 0.0103,\n",
       "  u'precipProbability': 0.51,\n",
       "  u'precipType': u'rain',\n",
       "  u'pressure': 1010.89,\n",
       "  u'summary': u'Light Rain',\n",
       "  u'temperature': 62.02,\n",
       "  u'time': 1457200800,\n",
       "  u'visibility': 6.37,\n",
       "  u'windBearing': 183,\n",
       "  u'windSpeed': 15.41},\n",
       " {u'apparentTemperature': 62.84,\n",
       "  u'cloudCover': 0.95,\n",
       "  u'dewPoint': 59.35,\n",
       "  u'humidity': 0.88,\n",
       "  u'icon': u'rain',\n",
       "  u'ozone': 325.31,\n",
       "  u'precipIntensity': 0.018,\n",
       "  u'precipProbability': 0.59,\n",
       "  u'precipType': u'rain',\n",
       "  u'pressure': 1010.2,\n",
       "  u'summary': u'Light Rain',\n",
       "  u'temperature': 62.84,\n",
       "  u'time': 1457204400,\n",
       "  u'visibility': 5.94,\n",
       "  u'windBearing': 184,\n",
       "  u'windSpeed': 17.52},\n",
       " {u'apparentTemperature': 63.51,\n",
       "  u'cloudCover': 0.98,\n",
       "  u'dewPoint': 59.46,\n",
       "  u'humidity': 0.87,\n",
       "  u'icon': u'rain',\n",
       "  u'ozone': 325.97,\n",
       "  u'precipIntensity': 0.0323,\n",
       "  u'precipProbability': 0.67,\n",
       "  u'precipType': u'rain',\n",
       "  u'pressure': 1009.17,\n",
       "  u'summary': u'Light Rain and Breezy',\n",
       "  u'temperature': 63.51,\n",
       "  u'time': 1457208000,\n",
       "  u'visibility': 4.65,\n",
       "  u'windBearing': 184,\n",
       "  u'windSpeed': 19.84},\n",
       " {u'apparentTemperature': 63.82,\n",
       "  u'cloudCover': 0.99,\n",
       "  u'dewPoint': 59.34,\n",
       "  u'humidity': 0.85,\n",
       "  u'icon': u'rain',\n",
       "  u'ozone': 326.24,\n",
       "  u'precipIntensity': 0.0476,\n",
       "  u'precipProbability': 0.72,\n",
       "  u'precipType': u'rain',\n",
       "  u'pressure': 1007.93,\n",
       "  u'summary': u'Light Rain and Breezy',\n",
       "  u'temperature': 63.82,\n",
       "  u'time': 1457211600,\n",
       "  u'visibility': 3.27,\n",
       "  u'windBearing': 183,\n",
       "  u'windSpeed': 21.97},\n",
       " {u'apparentTemperature': 63.27,\n",
       "  u'cloudCover': 0.99,\n",
       "  u'dewPoint': 59.02,\n",
       "  u'humidity': 0.86,\n",
       "  u'icon': u'rain',\n",
       "  u'ozone': 325.42,\n",
       "  u'precipIntensity': 0.0618,\n",
       "  u'precipProbability': 0.75,\n",
       "  u'precipType': u'rain',\n",
       "  u'pressure': 1006.63,\n",
       "  u'summary': u'Rain and Windy',\n",
       "  u'temperature': 63.27,\n",
       "  u'time': 1457215200,\n",
       "  u'visibility': 2.35,\n",
       "  u'windBearing': 182,\n",
       "  u'windSpeed': 25.28},\n",
       " {u'apparentTemperature': 62.43,\n",
       "  u'cloudCover': 0.97,\n",
       "  u'dewPoint': 58.09,\n",
       "  u'humidity': 0.86,\n",
       "  u'icon': u'rain',\n",
       "  u'ozone': 324.2,\n",
       "  u'precipIntensity': 0.0727,\n",
       "  u'precipProbability': 0.76,\n",
       "  u'precipType': u'rain',\n",
       "  u'pressure': 1005.32,\n",
       "  u'summary': u'Rain and Windy',\n",
       "  u'temperature': 62.43,\n",
       "  u'time': 1457218800,\n",
       "  u'visibility': 2.15,\n",
       "  u'windBearing': 179,\n",
       "  u'windSpeed': 27.3},\n",
       " {u'apparentTemperature': 61.44,\n",
       "  u'cloudCover': 0.96,\n",
       "  u'dewPoint': 57.23,\n",
       "  u'humidity': 0.86,\n",
       "  u'icon': u'rain',\n",
       "  u'ozone': 323.32,\n",
       "  u'precipIntensity': 0.0865,\n",
       "  u'precipProbability': 0.78,\n",
       "  u'precipType': u'rain',\n",
       "  u'pressure': 1004.3,\n",
       "  u'summary': u'Rain and Windy',\n",
       "  u'temperature': 61.44,\n",
       "  u'time': 1457222400,\n",
       "  u'visibility': 2.08,\n",
       "  u'windBearing': 179,\n",
       "  u'windSpeed': 28.51},\n",
       " {u'apparentTemperature': 60.36,\n",
       "  u'cloudCover': 0.96,\n",
       "  u'dewPoint': 56.94,\n",
       "  u'humidity': 0.88,\n",
       "  u'icon': u'rain',\n",
       "  u'ozone': 322.16,\n",
       "  u'precipIntensity': 0.1098,\n",
       "  u'precipProbability': 0.8,\n",
       "  u'precipType': u'rain',\n",
       "  u'pressure': 1003.65,\n",
       "  u'summary': u'Rain and Windy',\n",
       "  u'temperature': 60.36,\n",
       "  u'time': 1457226000,\n",
       "  u'visibility': 1.81,\n",
       "  u'windBearing': 183,\n",
       "  u'windSpeed': 29.34},\n",
       " {u'apparentTemperature': 59.64,\n",
       "  u'cloudCover': 0.98,\n",
       "  u'dewPoint': 56.98,\n",
       "  u'humidity': 0.91,\n",
       "  u'icon': u'rain',\n",
       "  u'ozone': 321.32,\n",
       "  u'precipIntensity': 0.1362,\n",
       "  u'precipProbability': 0.82,\n",
       "  u'precipType': u'rain',\n",
       "  u'pressure': 1003.25,\n",
       "  u'summary': u'Rain and Windy',\n",
       "  u'temperature': 59.64,\n",
       "  u'time': 1457229600,\n",
       "  u'visibility': 1.69,\n",
       "  u'windBearing': 188,\n",
       "  u'windSpeed': 29.72},\n",
       " {u'apparentTemperature': 59.3,\n",
       "  u'cloudCover': 1,\n",
       "  u'dewPoint': 57.01,\n",
       "  u'humidity': 0.92,\n",
       "  u'icon': u'rain',\n",
       "  u'ozone': 323.34,\n",
       "  u'precipIntensity': 0.1498,\n",
       "  u'precipProbability': 0.83,\n",
       "  u'precipType': u'rain',\n",
       "  u'pressure': 1003.23,\n",
       "  u'summary': u'Rain and Windy',\n",
       "  u'temperature': 59.3,\n",
       "  u'time': 1457233200,\n",
       "  u'visibility': 2.37,\n",
       "  u'windBearing': 196,\n",
       "  u'windSpeed': 28.55},\n",
       " {u'apparentTemperature': 59.3,\n",
       "  u'cloudCover': 0.99,\n",
       "  u'dewPoint': 56.71,\n",
       "  u'humidity': 0.91,\n",
       "  u'icon': u'rain',\n",
       "  u'ozone': 330.39,\n",
       "  u'precipIntensity': 0.1416,\n",
       "  u'precipProbability': 0.83,\n",
       "  u'precipType': u'rain',\n",
       "  u'pressure': 1003.71,\n",
       "  u'summary': u'Rain and Windy',\n",
       "  u'temperature': 59.3,\n",
       "  u'time': 1457236800,\n",
       "  u'visibility': 4.68,\n",
       "  u'windBearing': 209,\n",
       "  u'windSpeed': 25.27},\n",
       " {u'apparentTemperature': 58.63,\n",
       "  u'cloudCover': 0.97,\n",
       "  u'dewPoint': 55.43,\n",
       "  u'humidity': 0.89,\n",
       "  u'icon': u'rain',\n",
       "  u'ozone': 340.29,\n",
       "  u'precipIntensity': 0.12,\n",
       "  u'precipProbability': 0.81,\n",
       "  u'precipType': u'rain',\n",
       "  u'pressure': 1004.55,\n",
       "  u'summary': u'Rain and Breezy',\n",
       "  u'temperature': 58.63,\n",
       "  u'time': 1457240400,\n",
       "  u'visibility': 7.8,\n",
       "  u'windBearing': 229,\n",
       "  u'windSpeed': 22.94},\n",
       " {u'apparentTemperature': 57.97,\n",
       "  u'cloudCover': 0.94,\n",
       "  u'dewPoint': 54.07,\n",
       "  u'humidity': 0.87,\n",
       "  u'icon': u'rain',\n",
       "  u'ozone': 348.98,\n",
       "  u'precipIntensity': 0.0953,\n",
       "  u'precipProbability': 0.79,\n",
       "  u'precipType': u'rain',\n",
       "  u'pressure': 1005.56,\n",
       "  u'summary': u'Rain and Breezy',\n",
       "  u'temperature': 57.97,\n",
       "  u'time': 1457244000,\n",
       "  u'visibility': 10,\n",
       "  u'windBearing': 247,\n",
       "  u'windSpeed': 22.19},\n",
       " {u'apparentTemperature': 56.86,\n",
       "  u'cloudCover': 0.87,\n",
       "  u'dewPoint': 52.53,\n",
       "  u'humidity': 0.85,\n",
       "  u'icon': u'rain',\n",
       "  u'ozone': 355.63,\n",
       "  u'precipIntensity': 0.0665,\n",
       "  u'precipProbability': 0.75,\n",
       "  u'precipType': u'rain',\n",
       "  u'pressure': 1006.76,\n",
       "  u'summary': u'Rain and Breezy',\n",
       "  u'temperature': 56.86,\n",
       "  u'time': 1457247600,\n",
       "  u'visibility': 10,\n",
       "  u'windBearing': 256,\n",
       "  u'windSpeed': 21.2},\n",
       " {u'apparentTemperature': 55.67,\n",
       "  u'cloudCover': 0.79,\n",
       "  u'dewPoint': 51.01,\n",
       "  u'humidity': 0.84,\n",
       "  u'icon': u'rain',\n",
       "  u'ozone': 361.08,\n",
       "  u'precipIntensity': 0.0341,\n",
       "  u'precipProbability': 0.68,\n",
       "  u'precipType': u'rain',\n",
       "  u'pressure': 1008.07,\n",
       "  u'summary': u'Light Rain and Breezy',\n",
       "  u'temperature': 55.67,\n",
       "  u'time': 1457251200,\n",
       "  u'visibility': 9.88,\n",
       "  u'windBearing': 260,\n",
       "  u'windSpeed': 19.12},\n",
       " {u'apparentTemperature': 54.62,\n",
       "  u'cloudCover': 0.73,\n",
       "  u'dewPoint': 49.61,\n",
       "  u'humidity': 0.83,\n",
       "  u'icon': u'rain',\n",
       "  u'ozone': 363.77,\n",
       "  u'precipIntensity': 0.0102,\n",
       "  u'precipProbability': 0.51,\n",
       "  u'precipType': u'rain',\n",
       "  u'pressure': 1009.24,\n",
       "  u'summary': u'Light Rain',\n",
       "  u'temperature': 54.62,\n",
       "  u'time': 1457254800,\n",
       "  u'visibility': 9.39,\n",
       "  u'windBearing': 262,\n",
       "  u'windSpeed': 17.19},\n",
       " {u'apparentTemperature': 53.9,\n",
       "  u'cloudCover': 0.68,\n",
       "  u'dewPoint': 48.38,\n",
       "  u'humidity': 0.82,\n",
       "  u'icon': u'partly-cloudy-night',\n",
       "  u'ozone': 361.94,\n",
       "  u'precipIntensity': 0.0017,\n",
       "  u'precipProbability': 0.04,\n",
       "  u'precipType': u'rain',\n",
       "  u'pressure': 1010.16,\n",
       "  u'summary': u'Mostly Cloudy',\n",
       "  u'temperature': 53.9,\n",
       "  u'time': 1457258400,\n",
       "  u'visibility': 9.36,\n",
       "  u'windBearing': 264,\n",
       "  u'windSpeed': 16.07},\n",
       " {u'apparentTemperature': 53.45,\n",
       "  u'cloudCover': 0.65,\n",
       "  u'dewPoint': 47.38,\n",
       "  u'humidity': 0.8,\n",
       "  u'icon': u'partly-cloudy-night',\n",
       "  u'ozone': 357.34,\n",
       "  u'precipIntensity': 0.0023,\n",
       "  u'precipProbability': 0.06,\n",
       "  u'precipType': u'rain',\n",
       "  u'pressure': 1010.89,\n",
       "  u'summary': u'Mostly Cloudy',\n",
       "  u'temperature': 53.45,\n",
       "  u'time': 1457262000,\n",
       "  u'visibility': 9.36,\n",
       "  u'windBearing': 262,\n",
       "  u'windSpeed': 15.46},\n",
       " {u'apparentTemperature': 53.18,\n",
       "  u'cloudCover': 0.65,\n",
       "  u'dewPoint': 46.74,\n",
       "  u'humidity': 0.79,\n",
       "  u'icon': u'partly-cloudy-night',\n",
       "  u'ozone': 353.77,\n",
       "  u'precipIntensity': 0.0046,\n",
       "  u'precipProbability': 0.19,\n",
       "  u'precipType': u'rain',\n",
       "  u'pressure': 1011.56,\n",
       "  u'summary': u'Mostly Cloudy',\n",
       "  u'temperature': 53.18,\n",
       "  u'time': 1457265600,\n",
       "  u'visibility': 8.98,\n",
       "  u'windBearing': 259,\n",
       "  u'windSpeed': 15.11},\n",
       " {u'apparentTemperature': 52.91,\n",
       "  u'cloudCover': 0.71,\n",
       "  u'dewPoint': 46.5,\n",
       "  u'humidity': 0.79,\n",
       "  u'icon': u'rain',\n",
       "  u'ozone': 352.59,\n",
       "  u'precipIntensity': 0.0069,\n",
       "  u'precipProbability': 0.34,\n",
       "  u'precipType': u'rain',\n",
       "  u'pressure': 1012.27,\n",
       "  u'summary': u'Drizzle',\n",
       "  u'temperature': 52.91,\n",
       "  u'time': 1457269200,\n",
       "  u'visibility': 7.64,\n",
       "  u'windBearing': 255,\n",
       "  u'windSpeed': 14.44},\n",
       " {u'apparentTemperature': 52.73,\n",
       "  u'cloudCover': 0.8,\n",
       "  u'dewPoint': 46.56,\n",
       "  u'humidity': 0.79,\n",
       "  u'icon': u'rain',\n",
       "  u'ozone': 352.43,\n",
       "  u'precipIntensity': 0.0108,\n",
       "  u'precipProbability': 0.52,\n",
       "  u'precipType': u'rain',\n",
       "  u'pressure': 1012.96,\n",
       "  u'summary': u'Light Rain',\n",
       "  u'temperature': 52.73,\n",
       "  u'time': 1457272800,\n",
       "  u'visibility': 5.93,\n",
       "  u'windBearing': 249,\n",
       "  u'windSpeed': 13.78},\n",
       " {u'apparentTemperature': 53.01,\n",
       "  u'cloudCover': 0.85,\n",
       "  u'dewPoint': 46.9,\n",
       "  u'humidity': 0.8,\n",
       "  u'icon': u'rain',\n",
       "  u'ozone': 352.96,\n",
       "  u'precipIntensity': 0.0141,\n",
       "  u'precipProbability': 0.56,\n",
       "  u'precipType': u'rain',\n",
       "  u'pressure': 1013.57,\n",
       "  u'summary': u'Light Rain',\n",
       "  u'temperature': 53.01,\n",
       "  u'time': 1457276400,\n",
       "  u'visibility': 5.18,\n",
       "  u'windBearing': 245,\n",
       "  u'windSpeed': 13.73},\n",
       " {u'apparentTemperature': 53.35,\n",
       "  u'cloudCover': 0.83,\n",
       "  u'dewPoint': 47.05,\n",
       "  u'humidity': 0.79,\n",
       "  u'icon': u'rain',\n",
       "  u'ozone': 354.56,\n",
       "  u'precipIntensity': 0.0157,\n",
       "  u'precipProbability': 0.57,\n",
       "  u'precipType': u'rain',\n",
       "  u'pressure': 1014.12,\n",
       "  u'summary': u'Light Rain',\n",
       "  u'temperature': 53.35,\n",
       "  u'time': 1457280000,\n",
       "  u'visibility': 6.33,\n",
       "  u'windBearing': 242,\n",
       "  u'windSpeed': 13.99},\n",
       " {u'apparentTemperature': 53.82,\n",
       "  u'cloudCover': 0.78,\n",
       "  u'dewPoint': 47.19,\n",
       "  u'humidity': 0.78,\n",
       "  u'icon': u'rain',\n",
       "  u'ozone': 356.85,\n",
       "  u'precipIntensity': 0.0164,\n",
       "  u'precipProbability': 0.58,\n",
       "  u'precipType': u'rain',\n",
       "  u'pressure': 1014.58,\n",
       "  u'summary': u'Light Rain',\n",
       "  u'temperature': 53.82,\n",
       "  u'time': 1457283600,\n",
       "  u'visibility': 8.43,\n",
       "  u'windBearing': 243,\n",
       "  u'windSpeed': 14.04},\n",
       " {u'apparentTemperature': 54.43,\n",
       "  u'cloudCover': 0.71,\n",
       "  u'dewPoint': 47.31,\n",
       "  u'humidity': 0.77,\n",
       "  u'icon': u'rain',\n",
       "  u'ozone': 358.3,\n",
       "  u'precipIntensity': 0.0164,\n",
       "  u'precipProbability': 0.58,\n",
       "  u'precipType': u'rain',\n",
       "  u'pressure': 1014.9,\n",
       "  u'summary': u'Light Rain',\n",
       "  u'temperature': 54.43,\n",
       "  u'time': 1457287200,\n",
       "  u'visibility': 10,\n",
       "  u'windBearing': 244,\n",
       "  u'windSpeed': 14.08},\n",
       " {u'apparentTemperature': 55.41,\n",
       "  u'cloudCover': 0.59,\n",
       "  u'dewPoint': 47.45,\n",
       "  u'humidity': 0.75,\n",
       "  u'icon': u'rain',\n",
       "  u'ozone': 358.36,\n",
       "  u'precipIntensity': 0.0158,\n",
       "  u'precipProbability': 0.57,\n",
       "  u'precipType': u'rain',\n",
       "  u'pressure': 1015.01,\n",
       "  u'summary': u'Light Rain',\n",
       "  u'temperature': 55.41,\n",
       "  u'time': 1457290800,\n",
       "  u'visibility': 10,\n",
       "  u'windBearing': 242,\n",
       "  u'windSpeed': 14.26},\n",
       " {u'apparentTemperature': 56.78,\n",
       "  u'cloudCover': 0.44,\n",
       "  u'dewPoint': 47.76,\n",
       "  u'humidity': 0.72,\n",
       "  u'icon': u'rain',\n",
       "  u'ozone': 357.59,\n",
       "  u'precipIntensity': 0.0148,\n",
       "  u'precipProbability': 0.56,\n",
       "  u'precipType': u'rain',\n",
       "  u'pressure': 1014.97,\n",
       "  u'summary': u'Light Rain',\n",
       "  u'temperature': 56.78,\n",
       "  u'time': 1457294400,\n",
       "  u'visibility': 10,\n",
       "  u'windBearing': 238,\n",
       "  u'windSpeed': 14.58},\n",
       " {u'apparentTemperature': 57.97,\n",
       "  u'cloudCover': 0.38,\n",
       "  u'dewPoint': 48.27,\n",
       "  u'humidity': 0.7,\n",
       "  u'icon': u'rain',\n",
       "  u'ozone': 356.16,\n",
       "  u'precipIntensity': 0.0138,\n",
       "  u'precipProbability': 0.55,\n",
       "  u'precipType': u'rain',\n",
       "  u'pressure': 1014.83,\n",
       "  u'summary': u'Light Rain',\n",
       "  u'temperature': 57.97,\n",
       "  u'time': 1457298000,\n",
       "  u'visibility': 10,\n",
       "  u'windBearing': 235,\n",
       "  u'windSpeed': 15.31},\n",
       " {u'apparentTemperature': 58.45,\n",
       "  u'cloudCover': 0.45,\n",
       "  u'dewPoint': 48.74,\n",
       "  u'humidity': 0.7,\n",
       "  u'icon': u'rain',\n",
       "  u'ozone': 353.57,\n",
       "  u'precipIntensity': 0.0115,\n",
       "  u'precipProbability': 0.53,\n",
       "  u'precipType': u'rain',\n",
       "  u'pressure': 1014.6,\n",
       "  u'summary': u'Light Rain',\n",
       "  u'temperature': 58.45,\n",
       "  u'time': 1457301600,\n",
       "  u'visibility': 10,\n",
       "  u'windBearing': 232,\n",
       "  u'windSpeed': 15.68},\n",
       " {u'apparentTemperature': 58.01,\n",
       "  u'cloudCover': 0.61,\n",
       "  u'dewPoint': 48.76,\n",
       "  u'humidity': 0.71,\n",
       "  u'icon': u'rain',\n",
       "  u'ozone': 350.32,\n",
       "  u'precipIntensity': 0.0095,\n",
       "  u'precipProbability': 0.5,\n",
       "  u'precipType': u'rain',\n",
       "  u'pressure': 1014.27,\n",
       "  u'summary': u'Light Rain',\n",
       "  u'temperature': 58.01,\n",
       "  u'time': 1457305200,\n",
       "  u'visibility': 10,\n",
       "  u'windBearing': 226,\n",
       "  u'windSpeed': 15.11},\n",
       " {u'apparentTemperature': 57.36,\n",
       "  u'cloudCover': 0.75,\n",
       "  u'dewPoint': 48.97,\n",
       "  u'humidity': 0.74,\n",
       "  u'icon': u'rain',\n",
       "  u'ozone': 348.09,\n",
       "  u'precipIntensity': 0.0125,\n",
       "  u'precipProbability': 0.54,\n",
       "  u'precipType': u'rain',\n",
       "  u'pressure': 1013.86,\n",
       "  u'summary': u'Light Rain',\n",
       "  u'temperature': 57.36,\n",
       "  u'time': 1457308800,\n",
       "  u'visibility': 10,\n",
       "  u'windBearing': 219,\n",
       "  u'windSpeed': 15.83}]"
      ]
     },
     "execution_count": 4,
     "metadata": {},
     "output_type": "execute_result"
    }
   ],
   "source": [
    "data['hourly']['data']"
   ]
  },
  {
   "cell_type": "code",
   "execution_count": 5,
   "metadata": {
    "collapsed": false
   },
   "outputs": [
    {
     "data": {
      "text/plain": [
       "{u'data': [{u'apparentTemperature': 62.15,\n",
       "   u'cloudCover': 1,\n",
       "   u'dewPoint': 59.37,\n",
       "   u'humidity': 0.91,\n",
       "   u'icon': u'rain',\n",
       "   u'ozone': 337.87,\n",
       "   u'precipIntensity': 0.028,\n",
       "   u'precipProbability': 0.65,\n",
       "   u'precipType': u'rain',\n",
       "   u'pressure': 1013.87,\n",
       "   u'summary': u'Light Rain',\n",
       "   u'temperature': 62.15,\n",
       "   u'time': 1457136000,\n",
       "   u'visibility': 5.3,\n",
       "   u'windBearing': 188,\n",
       "   u'windSpeed': 9.08},\n",
       "  {u'apparentTemperature': 61.93,\n",
       "   u'cloudCover': 1,\n",
       "   u'dewPoint': 59.23,\n",
       "   u'humidity': 0.91,\n",
       "   u'icon': u'rain',\n",
       "   u'ozone': 338.57,\n",
       "   u'precipIntensity': 0.0134,\n",
       "   u'precipProbability': 0.71,\n",
       "   u'precipType': u'rain',\n",
       "   u'pressure': 1013.7,\n",
       "   u'summary': u'Light Rain',\n",
       "   u'temperature': 61.93,\n",
       "   u'time': 1457139600,\n",
       "   u'visibility': 4.86,\n",
       "   u'windBearing': 188,\n",
       "   u'windSpeed': 11.07},\n",
       "  {u'apparentTemperature': 61.81,\n",
       "   u'cloudCover': 1,\n",
       "   u'dewPoint': 59.55,\n",
       "   u'humidity': 0.92,\n",
       "   u'icon': u'rain',\n",
       "   u'ozone': 338.82,\n",
       "   u'precipIntensity': 0.0181,\n",
       "   u'precipProbability': 0.64,\n",
       "   u'precipType': u'rain',\n",
       "   u'pressure': 1013.6,\n",
       "   u'summary': u'Light Rain',\n",
       "   u'temperature': 61.81,\n",
       "   u'time': 1457143200,\n",
       "   u'visibility': 4.72,\n",
       "   u'windBearing': 193,\n",
       "   u'windSpeed': 11.62},\n",
       "  {u'apparentTemperature': 62,\n",
       "   u'cloudCover': 1,\n",
       "   u'dewPoint': 59.78,\n",
       "   u'humidity': 0.92,\n",
       "   u'icon': u'rain',\n",
       "   u'ozone': 339.39,\n",
       "   u'precipIntensity': 0.025,\n",
       "   u'precipProbability': 0.64,\n",
       "   u'precipType': u'rain',\n",
       "   u'pressure': 1013.55,\n",
       "   u'summary': u'Light Rain',\n",
       "   u'temperature': 62,\n",
       "   u'time': 1457146800,\n",
       "   u'visibility': 4.56,\n",
       "   u'windBearing': 196,\n",
       "   u'windSpeed': 11.23},\n",
       "  {u'apparentTemperature': 62.04,\n",
       "   u'cloudCover': 1,\n",
       "   u'dewPoint': 59.89,\n",
       "   u'humidity': 0.93,\n",
       "   u'icon': u'rain',\n",
       "   u'ozone': 340.82,\n",
       "   u'precipIntensity': 0.0218,\n",
       "   u'precipProbability': 0.62,\n",
       "   u'precipType': u'rain',\n",
       "   u'pressure': 1013.58,\n",
       "   u'summary': u'Light Rain',\n",
       "   u'temperature': 62.04,\n",
       "   u'time': 1457150400,\n",
       "   u'visibility': 4.65,\n",
       "   u'windBearing': 196,\n",
       "   u'windSpeed': 11.2},\n",
       "  {u'apparentTemperature': 61.79,\n",
       "   u'cloudCover': 0.99,\n",
       "   u'dewPoint': 60.03,\n",
       "   u'humidity': 0.94,\n",
       "   u'icon': u'rain',\n",
       "   u'ozone': 342.57,\n",
       "   u'precipIntensity': 0.0462,\n",
       "   u'precipProbability': 0.71,\n",
       "   u'precipType': u'rain',\n",
       "   u'pressure': 1013.66,\n",
       "   u'summary': u'Light Rain',\n",
       "   u'temperature': 61.79,\n",
       "   u'time': 1457154000,\n",
       "   u'visibility': 4.52,\n",
       "   u'windBearing': 192,\n",
       "   u'windSpeed': 10.96},\n",
       "  {u'apparentTemperature': 60.9,\n",
       "   u'cloudCover': 0.99,\n",
       "   u'dewPoint': 59.17,\n",
       "   u'humidity': 0.94,\n",
       "   u'icon': u'rain',\n",
       "   u'ozone': 343.88,\n",
       "   u'precipIntensity': 0.043,\n",
       "   u'precipProbability': 0.7,\n",
       "   u'precipType': u'rain',\n",
       "   u'pressure': 1013.67,\n",
       "   u'summary': u'Light Rain',\n",
       "   u'temperature': 60.9,\n",
       "   u'time': 1457157600,\n",
       "   u'visibility': 4.65,\n",
       "   u'windBearing': 192,\n",
       "   u'windSpeed': 11.27},\n",
       "  {u'apparentTemperature': 60.37,\n",
       "   u'cloudCover': 0.99,\n",
       "   u'dewPoint': 58.83,\n",
       "   u'humidity': 0.95,\n",
       "   u'icon': u'rain',\n",
       "   u'ozone': 344.64,\n",
       "   u'precipIntensity': 0.0571,\n",
       "   u'precipProbability': 0.74,\n",
       "   u'precipType': u'rain',\n",
       "   u'pressure': 1013.59,\n",
       "   u'summary': u'Rain',\n",
       "   u'temperature': 60.37,\n",
       "   u'time': 1457161200,\n",
       "   u'visibility': 4.74,\n",
       "   u'windBearing': 195,\n",
       "   u'windSpeed': 10.74},\n",
       "  {u'apparentTemperature': 59.98,\n",
       "   u'cloudCover': 1,\n",
       "   u'dewPoint': 58.52,\n",
       "   u'humidity': 0.95,\n",
       "   u'icon': u'rain',\n",
       "   u'ozone': 344.96,\n",
       "   u'precipIntensity': 0.0521,\n",
       "   u'precipProbability': 0.73,\n",
       "   u'precipType': u'rain',\n",
       "   u'pressure': 1013.45,\n",
       "   u'summary': u'Light Rain',\n",
       "   u'temperature': 59.98,\n",
       "   u'time': 1457164800,\n",
       "   u'visibility': 4.19,\n",
       "   u'windBearing': 201,\n",
       "   u'windSpeed': 11.38},\n",
       "  {u'apparentTemperature': 59.72,\n",
       "   u'cloudCover': 1,\n",
       "   u'dewPoint': 58.33,\n",
       "   u'humidity': 0.95,\n",
       "   u'icon': u'rain',\n",
       "   u'ozone': 344.49,\n",
       "   u'precipIntensity': 0.0178,\n",
       "   u'precipProbability': 0.59,\n",
       "   u'precipType': u'rain',\n",
       "   u'pressure': 1013.28,\n",
       "   u'summary': u'Light Rain',\n",
       "   u'temperature': 59.72,\n",
       "   u'time': 1457168400,\n",
       "   u'visibility': 3.81,\n",
       "   u'windBearing': 208,\n",
       "   u'windSpeed': 11.87},\n",
       "  {u'apparentTemperature': 59.42,\n",
       "   u'cloudCover': 1,\n",
       "   u'dewPoint': 58.04,\n",
       "   u'humidity': 0.95,\n",
       "   u'icon': u'rain',\n",
       "   u'ozone': 342.72,\n",
       "   u'precipIntensity': 0.0103,\n",
       "   u'precipProbability': 0.51,\n",
       "   u'precipType': u'rain',\n",
       "   u'pressure': 1013.12,\n",
       "   u'summary': u'Light Rain',\n",
       "   u'temperature': 59.42,\n",
       "   u'time': 1457172000,\n",
       "   u'visibility': 3.39,\n",
       "   u'windBearing': 209,\n",
       "   u'windSpeed': 11.68},\n",
       "  {u'apparentTemperature': 59.19,\n",
       "   u'cloudCover': 1,\n",
       "   u'dewPoint': 57.71,\n",
       "   u'humidity': 0.95,\n",
       "   u'icon': u'rain',\n",
       "   u'ozone': 340.16,\n",
       "   u'precipIntensity': 0.0071,\n",
       "   u'precipProbability': 0.35,\n",
       "   u'precipType': u'rain',\n",
       "   u'pressure': 1012.93,\n",
       "   u'summary': u'Drizzle',\n",
       "   u'temperature': 59.19,\n",
       "   u'time': 1457175600,\n",
       "   u'visibility': 3.52,\n",
       "   u'windBearing': 205,\n",
       "   u'windSpeed': 11.07},\n",
       "  {u'apparentTemperature': 59.26,\n",
       "   u'cloudCover': 0.99,\n",
       "   u'dewPoint': 57.52,\n",
       "   u'humidity': 0.94,\n",
       "   u'icon': u'rain',\n",
       "   u'ozone': 337.95,\n",
       "   u'precipIntensity': 0.0068,\n",
       "   u'precipProbability': 0.33,\n",
       "   u'precipType': u'rain',\n",
       "   u'pressure': 1012.67,\n",
       "   u'summary': u'Drizzle',\n",
       "   u'temperature': 59.26,\n",
       "   u'time': 1457179200,\n",
       "   u'visibility': 3.83,\n",
       "   u'windBearing': 195,\n",
       "   u'windSpeed': 10.88},\n",
       "  {u'apparentTemperature': 59.23,\n",
       "   u'cloudCover': 0.99,\n",
       "   u'dewPoint': 57.48,\n",
       "   u'humidity': 0.94,\n",
       "   u'icon': u'cloudy',\n",
       "   u'ozone': 336.79,\n",
       "   u'precipIntensity': 0.0043,\n",
       "   u'precipProbability': 0.17,\n",
       "   u'precipType': u'rain',\n",
       "   u'pressure': 1012.28,\n",
       "   u'summary': u'Overcast',\n",
       "   u'temperature': 59.23,\n",
       "   u'time': 1457182800,\n",
       "   u'visibility': 4.3,\n",
       "   u'windBearing': 187,\n",
       "   u'windSpeed': 11.22},\n",
       "  {u'apparentTemperature': 59.22,\n",
       "   u'cloudCover': 0.98,\n",
       "   u'dewPoint': 57.63,\n",
       "   u'humidity': 0.94,\n",
       "   u'icon': u'rain',\n",
       "   u'ozone': 335.99,\n",
       "   u'precipIntensity': 0.0105,\n",
       "   u'precipProbability': 0.52,\n",
       "   u'precipType': u'rain',\n",
       "   u'pressure': 1011.81,\n",
       "   u'summary': u'Light Rain',\n",
       "   u'temperature': 59.22,\n",
       "   u'time': 1457186400,\n",
       "   u'visibility': 4.31,\n",
       "   u'windBearing': 184,\n",
       "   u'windSpeed': 9.86},\n",
       "  {u'apparentTemperature': 59.66,\n",
       "   u'cloudCover': 0.98,\n",
       "   u'dewPoint': 57.92,\n",
       "   u'humidity': 0.94,\n",
       "   u'icon': u'rain',\n",
       "   u'ozone': 334.57,\n",
       "   u'precipIntensity': 0.006,\n",
       "   u'precipProbability': 0.27,\n",
       "   u'precipType': u'rain',\n",
       "   u'pressure': 1011.42,\n",
       "   u'summary': u'Drizzle',\n",
       "   u'temperature': 59.66,\n",
       "   u'time': 1457190000,\n",
       "   u'visibility': 4.35,\n",
       "   u'windBearing': 175,\n",
       "   u'windSpeed': 11.04},\n",
       "  {u'apparentTemperature': 60.42,\n",
       "   u'cloudCover': 0.96,\n",
       "   u'dewPoint': 58.02,\n",
       "   u'humidity': 0.92,\n",
       "   u'icon': u'cloudy',\n",
       "   u'ozone': 331.67,\n",
       "   u'precipIntensity': 0.0042,\n",
       "   u'precipProbability': 0.16,\n",
       "   u'precipType': u'rain',\n",
       "   u'pressure': 1011.26,\n",
       "   u'summary': u'Overcast',\n",
       "   u'temperature': 60.42,\n",
       "   u'time': 1457193600,\n",
       "   u'visibility': 5.5,\n",
       "   u'windBearing': 179,\n",
       "   u'windSpeed': 12.23},\n",
       "  {u'apparentTemperature': 61.17,\n",
       "   u'cloudCover': 0.94,\n",
       "   u'dewPoint': 58.7,\n",
       "   u'humidity': 0.92,\n",
       "   u'icon': u'rain',\n",
       "   u'ozone': 328.16,\n",
       "   u'precipIntensity': 0.0096,\n",
       "   u'precipProbability': 0.5,\n",
       "   u'precipType': u'rain',\n",
       "   u'pressure': 1011.19,\n",
       "   u'summary': u'Light Rain',\n",
       "   u'temperature': 61.17,\n",
       "   u'time': 1457197200,\n",
       "   u'visibility': 6.1,\n",
       "   u'windBearing': 182,\n",
       "   u'windSpeed': 13.74},\n",
       "  {u'apparentTemperature': 62.02,\n",
       "   u'cloudCover': 0.93,\n",
       "   u'dewPoint': 59.16,\n",
       "   u'humidity': 0.9,\n",
       "   u'icon': u'rain',\n",
       "   u'ozone': 325.69,\n",
       "   u'precipIntensity': 0.0103,\n",
       "   u'precipProbability': 0.51,\n",
       "   u'precipType': u'rain',\n",
       "   u'pressure': 1010.89,\n",
       "   u'summary': u'Light Rain',\n",
       "   u'temperature': 62.02,\n",
       "   u'time': 1457200800,\n",
       "   u'visibility': 6.37,\n",
       "   u'windBearing': 183,\n",
       "   u'windSpeed': 15.41},\n",
       "  {u'apparentTemperature': 62.84,\n",
       "   u'cloudCover': 0.95,\n",
       "   u'dewPoint': 59.35,\n",
       "   u'humidity': 0.88,\n",
       "   u'icon': u'rain',\n",
       "   u'ozone': 325.31,\n",
       "   u'precipIntensity': 0.018,\n",
       "   u'precipProbability': 0.59,\n",
       "   u'precipType': u'rain',\n",
       "   u'pressure': 1010.2,\n",
       "   u'summary': u'Light Rain',\n",
       "   u'temperature': 62.84,\n",
       "   u'time': 1457204400,\n",
       "   u'visibility': 5.94,\n",
       "   u'windBearing': 184,\n",
       "   u'windSpeed': 17.52},\n",
       "  {u'apparentTemperature': 63.51,\n",
       "   u'cloudCover': 0.98,\n",
       "   u'dewPoint': 59.46,\n",
       "   u'humidity': 0.87,\n",
       "   u'icon': u'rain',\n",
       "   u'ozone': 325.97,\n",
       "   u'precipIntensity': 0.0323,\n",
       "   u'precipProbability': 0.67,\n",
       "   u'precipType': u'rain',\n",
       "   u'pressure': 1009.17,\n",
       "   u'summary': u'Light Rain and Breezy',\n",
       "   u'temperature': 63.51,\n",
       "   u'time': 1457208000,\n",
       "   u'visibility': 4.65,\n",
       "   u'windBearing': 184,\n",
       "   u'windSpeed': 19.84},\n",
       "  {u'apparentTemperature': 63.82,\n",
       "   u'cloudCover': 0.99,\n",
       "   u'dewPoint': 59.34,\n",
       "   u'humidity': 0.85,\n",
       "   u'icon': u'rain',\n",
       "   u'ozone': 326.24,\n",
       "   u'precipIntensity': 0.0476,\n",
       "   u'precipProbability': 0.72,\n",
       "   u'precipType': u'rain',\n",
       "   u'pressure': 1007.93,\n",
       "   u'summary': u'Light Rain and Breezy',\n",
       "   u'temperature': 63.82,\n",
       "   u'time': 1457211600,\n",
       "   u'visibility': 3.27,\n",
       "   u'windBearing': 183,\n",
       "   u'windSpeed': 21.97},\n",
       "  {u'apparentTemperature': 63.27,\n",
       "   u'cloudCover': 0.99,\n",
       "   u'dewPoint': 59.02,\n",
       "   u'humidity': 0.86,\n",
       "   u'icon': u'rain',\n",
       "   u'ozone': 325.42,\n",
       "   u'precipIntensity': 0.0618,\n",
       "   u'precipProbability': 0.75,\n",
       "   u'precipType': u'rain',\n",
       "   u'pressure': 1006.63,\n",
       "   u'summary': u'Rain and Windy',\n",
       "   u'temperature': 63.27,\n",
       "   u'time': 1457215200,\n",
       "   u'visibility': 2.35,\n",
       "   u'windBearing': 182,\n",
       "   u'windSpeed': 25.28},\n",
       "  {u'apparentTemperature': 62.43,\n",
       "   u'cloudCover': 0.97,\n",
       "   u'dewPoint': 58.09,\n",
       "   u'humidity': 0.86,\n",
       "   u'icon': u'rain',\n",
       "   u'ozone': 324.2,\n",
       "   u'precipIntensity': 0.0727,\n",
       "   u'precipProbability': 0.76,\n",
       "   u'precipType': u'rain',\n",
       "   u'pressure': 1005.32,\n",
       "   u'summary': u'Rain and Windy',\n",
       "   u'temperature': 62.43,\n",
       "   u'time': 1457218800,\n",
       "   u'visibility': 2.15,\n",
       "   u'windBearing': 179,\n",
       "   u'windSpeed': 27.3},\n",
       "  {u'apparentTemperature': 61.44,\n",
       "   u'cloudCover': 0.96,\n",
       "   u'dewPoint': 57.23,\n",
       "   u'humidity': 0.86,\n",
       "   u'icon': u'rain',\n",
       "   u'ozone': 323.32,\n",
       "   u'precipIntensity': 0.0865,\n",
       "   u'precipProbability': 0.78,\n",
       "   u'precipType': u'rain',\n",
       "   u'pressure': 1004.3,\n",
       "   u'summary': u'Rain and Windy',\n",
       "   u'temperature': 61.44,\n",
       "   u'time': 1457222400,\n",
       "   u'visibility': 2.08,\n",
       "   u'windBearing': 179,\n",
       "   u'windSpeed': 28.51},\n",
       "  {u'apparentTemperature': 60.36,\n",
       "   u'cloudCover': 0.96,\n",
       "   u'dewPoint': 56.94,\n",
       "   u'humidity': 0.88,\n",
       "   u'icon': u'rain',\n",
       "   u'ozone': 322.16,\n",
       "   u'precipIntensity': 0.1098,\n",
       "   u'precipProbability': 0.8,\n",
       "   u'precipType': u'rain',\n",
       "   u'pressure': 1003.65,\n",
       "   u'summary': u'Rain and Windy',\n",
       "   u'temperature': 60.36,\n",
       "   u'time': 1457226000,\n",
       "   u'visibility': 1.81,\n",
       "   u'windBearing': 183,\n",
       "   u'windSpeed': 29.34},\n",
       "  {u'apparentTemperature': 59.64,\n",
       "   u'cloudCover': 0.98,\n",
       "   u'dewPoint': 56.98,\n",
       "   u'humidity': 0.91,\n",
       "   u'icon': u'rain',\n",
       "   u'ozone': 321.32,\n",
       "   u'precipIntensity': 0.1362,\n",
       "   u'precipProbability': 0.82,\n",
       "   u'precipType': u'rain',\n",
       "   u'pressure': 1003.25,\n",
       "   u'summary': u'Rain and Windy',\n",
       "   u'temperature': 59.64,\n",
       "   u'time': 1457229600,\n",
       "   u'visibility': 1.69,\n",
       "   u'windBearing': 188,\n",
       "   u'windSpeed': 29.72},\n",
       "  {u'apparentTemperature': 59.3,\n",
       "   u'cloudCover': 1,\n",
       "   u'dewPoint': 57.01,\n",
       "   u'humidity': 0.92,\n",
       "   u'icon': u'rain',\n",
       "   u'ozone': 323.34,\n",
       "   u'precipIntensity': 0.1498,\n",
       "   u'precipProbability': 0.83,\n",
       "   u'precipType': u'rain',\n",
       "   u'pressure': 1003.23,\n",
       "   u'summary': u'Rain and Windy',\n",
       "   u'temperature': 59.3,\n",
       "   u'time': 1457233200,\n",
       "   u'visibility': 2.37,\n",
       "   u'windBearing': 196,\n",
       "   u'windSpeed': 28.55},\n",
       "  {u'apparentTemperature': 59.3,\n",
       "   u'cloudCover': 0.99,\n",
       "   u'dewPoint': 56.71,\n",
       "   u'humidity': 0.91,\n",
       "   u'icon': u'rain',\n",
       "   u'ozone': 330.39,\n",
       "   u'precipIntensity': 0.1416,\n",
       "   u'precipProbability': 0.83,\n",
       "   u'precipType': u'rain',\n",
       "   u'pressure': 1003.71,\n",
       "   u'summary': u'Rain and Windy',\n",
       "   u'temperature': 59.3,\n",
       "   u'time': 1457236800,\n",
       "   u'visibility': 4.68,\n",
       "   u'windBearing': 209,\n",
       "   u'windSpeed': 25.27},\n",
       "  {u'apparentTemperature': 58.63,\n",
       "   u'cloudCover': 0.97,\n",
       "   u'dewPoint': 55.43,\n",
       "   u'humidity': 0.89,\n",
       "   u'icon': u'rain',\n",
       "   u'ozone': 340.29,\n",
       "   u'precipIntensity': 0.12,\n",
       "   u'precipProbability': 0.81,\n",
       "   u'precipType': u'rain',\n",
       "   u'pressure': 1004.55,\n",
       "   u'summary': u'Rain and Breezy',\n",
       "   u'temperature': 58.63,\n",
       "   u'time': 1457240400,\n",
       "   u'visibility': 7.8,\n",
       "   u'windBearing': 229,\n",
       "   u'windSpeed': 22.94},\n",
       "  {u'apparentTemperature': 57.97,\n",
       "   u'cloudCover': 0.94,\n",
       "   u'dewPoint': 54.07,\n",
       "   u'humidity': 0.87,\n",
       "   u'icon': u'rain',\n",
       "   u'ozone': 348.98,\n",
       "   u'precipIntensity': 0.0953,\n",
       "   u'precipProbability': 0.79,\n",
       "   u'precipType': u'rain',\n",
       "   u'pressure': 1005.56,\n",
       "   u'summary': u'Rain and Breezy',\n",
       "   u'temperature': 57.97,\n",
       "   u'time': 1457244000,\n",
       "   u'visibility': 10,\n",
       "   u'windBearing': 247,\n",
       "   u'windSpeed': 22.19},\n",
       "  {u'apparentTemperature': 56.86,\n",
       "   u'cloudCover': 0.87,\n",
       "   u'dewPoint': 52.53,\n",
       "   u'humidity': 0.85,\n",
       "   u'icon': u'rain',\n",
       "   u'ozone': 355.63,\n",
       "   u'precipIntensity': 0.0665,\n",
       "   u'precipProbability': 0.75,\n",
       "   u'precipType': u'rain',\n",
       "   u'pressure': 1006.76,\n",
       "   u'summary': u'Rain and Breezy',\n",
       "   u'temperature': 56.86,\n",
       "   u'time': 1457247600,\n",
       "   u'visibility': 10,\n",
       "   u'windBearing': 256,\n",
       "   u'windSpeed': 21.2},\n",
       "  {u'apparentTemperature': 55.67,\n",
       "   u'cloudCover': 0.79,\n",
       "   u'dewPoint': 51.01,\n",
       "   u'humidity': 0.84,\n",
       "   u'icon': u'rain',\n",
       "   u'ozone': 361.08,\n",
       "   u'precipIntensity': 0.0341,\n",
       "   u'precipProbability': 0.68,\n",
       "   u'precipType': u'rain',\n",
       "   u'pressure': 1008.07,\n",
       "   u'summary': u'Light Rain and Breezy',\n",
       "   u'temperature': 55.67,\n",
       "   u'time': 1457251200,\n",
       "   u'visibility': 9.88,\n",
       "   u'windBearing': 260,\n",
       "   u'windSpeed': 19.12},\n",
       "  {u'apparentTemperature': 54.62,\n",
       "   u'cloudCover': 0.73,\n",
       "   u'dewPoint': 49.61,\n",
       "   u'humidity': 0.83,\n",
       "   u'icon': u'rain',\n",
       "   u'ozone': 363.77,\n",
       "   u'precipIntensity': 0.0102,\n",
       "   u'precipProbability': 0.51,\n",
       "   u'precipType': u'rain',\n",
       "   u'pressure': 1009.24,\n",
       "   u'summary': u'Light Rain',\n",
       "   u'temperature': 54.62,\n",
       "   u'time': 1457254800,\n",
       "   u'visibility': 9.39,\n",
       "   u'windBearing': 262,\n",
       "   u'windSpeed': 17.19},\n",
       "  {u'apparentTemperature': 53.9,\n",
       "   u'cloudCover': 0.68,\n",
       "   u'dewPoint': 48.38,\n",
       "   u'humidity': 0.82,\n",
       "   u'icon': u'partly-cloudy-night',\n",
       "   u'ozone': 361.94,\n",
       "   u'precipIntensity': 0.0017,\n",
       "   u'precipProbability': 0.04,\n",
       "   u'precipType': u'rain',\n",
       "   u'pressure': 1010.16,\n",
       "   u'summary': u'Mostly Cloudy',\n",
       "   u'temperature': 53.9,\n",
       "   u'time': 1457258400,\n",
       "   u'visibility': 9.36,\n",
       "   u'windBearing': 264,\n",
       "   u'windSpeed': 16.07},\n",
       "  {u'apparentTemperature': 53.45,\n",
       "   u'cloudCover': 0.65,\n",
       "   u'dewPoint': 47.38,\n",
       "   u'humidity': 0.8,\n",
       "   u'icon': u'partly-cloudy-night',\n",
       "   u'ozone': 357.34,\n",
       "   u'precipIntensity': 0.0023,\n",
       "   u'precipProbability': 0.06,\n",
       "   u'precipType': u'rain',\n",
       "   u'pressure': 1010.89,\n",
       "   u'summary': u'Mostly Cloudy',\n",
       "   u'temperature': 53.45,\n",
       "   u'time': 1457262000,\n",
       "   u'visibility': 9.36,\n",
       "   u'windBearing': 262,\n",
       "   u'windSpeed': 15.46},\n",
       "  {u'apparentTemperature': 53.18,\n",
       "   u'cloudCover': 0.65,\n",
       "   u'dewPoint': 46.74,\n",
       "   u'humidity': 0.79,\n",
       "   u'icon': u'partly-cloudy-night',\n",
       "   u'ozone': 353.77,\n",
       "   u'precipIntensity': 0.0046,\n",
       "   u'precipProbability': 0.19,\n",
       "   u'precipType': u'rain',\n",
       "   u'pressure': 1011.56,\n",
       "   u'summary': u'Mostly Cloudy',\n",
       "   u'temperature': 53.18,\n",
       "   u'time': 1457265600,\n",
       "   u'visibility': 8.98,\n",
       "   u'windBearing': 259,\n",
       "   u'windSpeed': 15.11},\n",
       "  {u'apparentTemperature': 52.91,\n",
       "   u'cloudCover': 0.71,\n",
       "   u'dewPoint': 46.5,\n",
       "   u'humidity': 0.79,\n",
       "   u'icon': u'rain',\n",
       "   u'ozone': 352.59,\n",
       "   u'precipIntensity': 0.0069,\n",
       "   u'precipProbability': 0.34,\n",
       "   u'precipType': u'rain',\n",
       "   u'pressure': 1012.27,\n",
       "   u'summary': u'Drizzle',\n",
       "   u'temperature': 52.91,\n",
       "   u'time': 1457269200,\n",
       "   u'visibility': 7.64,\n",
       "   u'windBearing': 255,\n",
       "   u'windSpeed': 14.44},\n",
       "  {u'apparentTemperature': 52.73,\n",
       "   u'cloudCover': 0.8,\n",
       "   u'dewPoint': 46.56,\n",
       "   u'humidity': 0.79,\n",
       "   u'icon': u'rain',\n",
       "   u'ozone': 352.43,\n",
       "   u'precipIntensity': 0.0108,\n",
       "   u'precipProbability': 0.52,\n",
       "   u'precipType': u'rain',\n",
       "   u'pressure': 1012.96,\n",
       "   u'summary': u'Light Rain',\n",
       "   u'temperature': 52.73,\n",
       "   u'time': 1457272800,\n",
       "   u'visibility': 5.93,\n",
       "   u'windBearing': 249,\n",
       "   u'windSpeed': 13.78},\n",
       "  {u'apparentTemperature': 53.01,\n",
       "   u'cloudCover': 0.85,\n",
       "   u'dewPoint': 46.9,\n",
       "   u'humidity': 0.8,\n",
       "   u'icon': u'rain',\n",
       "   u'ozone': 352.96,\n",
       "   u'precipIntensity': 0.0141,\n",
       "   u'precipProbability': 0.56,\n",
       "   u'precipType': u'rain',\n",
       "   u'pressure': 1013.57,\n",
       "   u'summary': u'Light Rain',\n",
       "   u'temperature': 53.01,\n",
       "   u'time': 1457276400,\n",
       "   u'visibility': 5.18,\n",
       "   u'windBearing': 245,\n",
       "   u'windSpeed': 13.73},\n",
       "  {u'apparentTemperature': 53.35,\n",
       "   u'cloudCover': 0.83,\n",
       "   u'dewPoint': 47.05,\n",
       "   u'humidity': 0.79,\n",
       "   u'icon': u'rain',\n",
       "   u'ozone': 354.56,\n",
       "   u'precipIntensity': 0.0157,\n",
       "   u'precipProbability': 0.57,\n",
       "   u'precipType': u'rain',\n",
       "   u'pressure': 1014.12,\n",
       "   u'summary': u'Light Rain',\n",
       "   u'temperature': 53.35,\n",
       "   u'time': 1457280000,\n",
       "   u'visibility': 6.33,\n",
       "   u'windBearing': 242,\n",
       "   u'windSpeed': 13.99},\n",
       "  {u'apparentTemperature': 53.82,\n",
       "   u'cloudCover': 0.78,\n",
       "   u'dewPoint': 47.19,\n",
       "   u'humidity': 0.78,\n",
       "   u'icon': u'rain',\n",
       "   u'ozone': 356.85,\n",
       "   u'precipIntensity': 0.0164,\n",
       "   u'precipProbability': 0.58,\n",
       "   u'precipType': u'rain',\n",
       "   u'pressure': 1014.58,\n",
       "   u'summary': u'Light Rain',\n",
       "   u'temperature': 53.82,\n",
       "   u'time': 1457283600,\n",
       "   u'visibility': 8.43,\n",
       "   u'windBearing': 243,\n",
       "   u'windSpeed': 14.04},\n",
       "  {u'apparentTemperature': 54.43,\n",
       "   u'cloudCover': 0.71,\n",
       "   u'dewPoint': 47.31,\n",
       "   u'humidity': 0.77,\n",
       "   u'icon': u'rain',\n",
       "   u'ozone': 358.3,\n",
       "   u'precipIntensity': 0.0164,\n",
       "   u'precipProbability': 0.58,\n",
       "   u'precipType': u'rain',\n",
       "   u'pressure': 1014.9,\n",
       "   u'summary': u'Light Rain',\n",
       "   u'temperature': 54.43,\n",
       "   u'time': 1457287200,\n",
       "   u'visibility': 10,\n",
       "   u'windBearing': 244,\n",
       "   u'windSpeed': 14.08},\n",
       "  {u'apparentTemperature': 55.41,\n",
       "   u'cloudCover': 0.59,\n",
       "   u'dewPoint': 47.45,\n",
       "   u'humidity': 0.75,\n",
       "   u'icon': u'rain',\n",
       "   u'ozone': 358.36,\n",
       "   u'precipIntensity': 0.0158,\n",
       "   u'precipProbability': 0.57,\n",
       "   u'precipType': u'rain',\n",
       "   u'pressure': 1015.01,\n",
       "   u'summary': u'Light Rain',\n",
       "   u'temperature': 55.41,\n",
       "   u'time': 1457290800,\n",
       "   u'visibility': 10,\n",
       "   u'windBearing': 242,\n",
       "   u'windSpeed': 14.26},\n",
       "  {u'apparentTemperature': 56.78,\n",
       "   u'cloudCover': 0.44,\n",
       "   u'dewPoint': 47.76,\n",
       "   u'humidity': 0.72,\n",
       "   u'icon': u'rain',\n",
       "   u'ozone': 357.59,\n",
       "   u'precipIntensity': 0.0148,\n",
       "   u'precipProbability': 0.56,\n",
       "   u'precipType': u'rain',\n",
       "   u'pressure': 1014.97,\n",
       "   u'summary': u'Light Rain',\n",
       "   u'temperature': 56.78,\n",
       "   u'time': 1457294400,\n",
       "   u'visibility': 10,\n",
       "   u'windBearing': 238,\n",
       "   u'windSpeed': 14.58},\n",
       "  {u'apparentTemperature': 57.97,\n",
       "   u'cloudCover': 0.38,\n",
       "   u'dewPoint': 48.27,\n",
       "   u'humidity': 0.7,\n",
       "   u'icon': u'rain',\n",
       "   u'ozone': 356.16,\n",
       "   u'precipIntensity': 0.0138,\n",
       "   u'precipProbability': 0.55,\n",
       "   u'precipType': u'rain',\n",
       "   u'pressure': 1014.83,\n",
       "   u'summary': u'Light Rain',\n",
       "   u'temperature': 57.97,\n",
       "   u'time': 1457298000,\n",
       "   u'visibility': 10,\n",
       "   u'windBearing': 235,\n",
       "   u'windSpeed': 15.31},\n",
       "  {u'apparentTemperature': 58.45,\n",
       "   u'cloudCover': 0.45,\n",
       "   u'dewPoint': 48.74,\n",
       "   u'humidity': 0.7,\n",
       "   u'icon': u'rain',\n",
       "   u'ozone': 353.57,\n",
       "   u'precipIntensity': 0.0115,\n",
       "   u'precipProbability': 0.53,\n",
       "   u'precipType': u'rain',\n",
       "   u'pressure': 1014.6,\n",
       "   u'summary': u'Light Rain',\n",
       "   u'temperature': 58.45,\n",
       "   u'time': 1457301600,\n",
       "   u'visibility': 10,\n",
       "   u'windBearing': 232,\n",
       "   u'windSpeed': 15.68},\n",
       "  {u'apparentTemperature': 58.01,\n",
       "   u'cloudCover': 0.61,\n",
       "   u'dewPoint': 48.76,\n",
       "   u'humidity': 0.71,\n",
       "   u'icon': u'rain',\n",
       "   u'ozone': 350.32,\n",
       "   u'precipIntensity': 0.0095,\n",
       "   u'precipProbability': 0.5,\n",
       "   u'precipType': u'rain',\n",
       "   u'pressure': 1014.27,\n",
       "   u'summary': u'Light Rain',\n",
       "   u'temperature': 58.01,\n",
       "   u'time': 1457305200,\n",
       "   u'visibility': 10,\n",
       "   u'windBearing': 226,\n",
       "   u'windSpeed': 15.11},\n",
       "  {u'apparentTemperature': 57.36,\n",
       "   u'cloudCover': 0.75,\n",
       "   u'dewPoint': 48.97,\n",
       "   u'humidity': 0.74,\n",
       "   u'icon': u'rain',\n",
       "   u'ozone': 348.09,\n",
       "   u'precipIntensity': 0.0125,\n",
       "   u'precipProbability': 0.54,\n",
       "   u'precipType': u'rain',\n",
       "   u'pressure': 1013.86,\n",
       "   u'summary': u'Light Rain',\n",
       "   u'temperature': 57.36,\n",
       "   u'time': 1457308800,\n",
       "   u'visibility': 10,\n",
       "   u'windBearing': 219,\n",
       "   u'windSpeed': 15.83}],\n",
       " u'icon': u'rain',\n",
       " u'summary': u'Rain until tomorrow afternoon and breezy tomorrow afternoon.'}"
      ]
     },
     "execution_count": 5,
     "metadata": {},
     "output_type": "execute_result"
    }
   ],
   "source": [
    "data['hourly']"
   ]
  },
  {
   "cell_type": "code",
   "execution_count": 6,
   "metadata": {
    "collapsed": false
   },
   "outputs": [],
   "source": [
    "df = pd.DataFrame(data['hourly']['data'])"
   ]
  },
  {
   "cell_type": "code",
   "execution_count": 8,
   "metadata": {
    "collapsed": false
   },
   "outputs": [],
   "source": [
    "jso"
   ]
  },
  {
   "cell_type": "code",
   "execution_count": 9,
   "metadata": {
    "collapsed": false
   },
   "outputs": [
    {
     "data": {
      "text/html": [
       "<div>\n",
       "<table border=\"1\" class=\"dataframe\">\n",
       "  <thead>\n",
       "    <tr style=\"text-align: right;\">\n",
       "      <th></th>\n",
       "      <th>apparentTemperature</th>\n",
       "      <th>cloudCover</th>\n",
       "      <th>dewPoint</th>\n",
       "      <th>humidity</th>\n",
       "      <th>icon</th>\n",
       "      <th>ozone</th>\n",
       "      <th>precipIntensity</th>\n",
       "      <th>precipProbability</th>\n",
       "      <th>precipType</th>\n",
       "      <th>pressure</th>\n",
       "      <th>summary</th>\n",
       "      <th>temperature</th>\n",
       "      <th>time</th>\n",
       "      <th>visibility</th>\n",
       "      <th>windBearing</th>\n",
       "      <th>windSpeed</th>\n",
       "    </tr>\n",
       "  </thead>\n",
       "  <tbody>\n",
       "    <tr>\n",
       "      <th>0</th>\n",
       "      <td>62.15</td>\n",
       "      <td>1</td>\n",
       "      <td>59.37</td>\n",
       "      <td>0.91</td>\n",
       "      <td>rain</td>\n",
       "      <td>337.87</td>\n",
       "      <td>0.0280</td>\n",
       "      <td>0.65</td>\n",
       "      <td>rain</td>\n",
       "      <td>1013.87</td>\n",
       "      <td>Light Rain</td>\n",
       "      <td>62.15</td>\n",
       "      <td>2016-03-05 00:00:00</td>\n",
       "      <td>5.30</td>\n",
       "      <td>188</td>\n",
       "      <td>9.08</td>\n",
       "    </tr>\n",
       "    <tr>\n",
       "      <th>1</th>\n",
       "      <td>61.93</td>\n",
       "      <td>1</td>\n",
       "      <td>59.23</td>\n",
       "      <td>0.91</td>\n",
       "      <td>rain</td>\n",
       "      <td>338.57</td>\n",
       "      <td>0.0134</td>\n",
       "      <td>0.71</td>\n",
       "      <td>rain</td>\n",
       "      <td>1013.70</td>\n",
       "      <td>Light Rain</td>\n",
       "      <td>61.93</td>\n",
       "      <td>2016-03-05 01:00:00</td>\n",
       "      <td>4.86</td>\n",
       "      <td>188</td>\n",
       "      <td>11.07</td>\n",
       "    </tr>\n",
       "    <tr>\n",
       "      <th>2</th>\n",
       "      <td>61.81</td>\n",
       "      <td>1</td>\n",
       "      <td>59.55</td>\n",
       "      <td>0.92</td>\n",
       "      <td>rain</td>\n",
       "      <td>338.82</td>\n",
       "      <td>0.0181</td>\n",
       "      <td>0.64</td>\n",
       "      <td>rain</td>\n",
       "      <td>1013.60</td>\n",
       "      <td>Light Rain</td>\n",
       "      <td>61.81</td>\n",
       "      <td>2016-03-05 02:00:00</td>\n",
       "      <td>4.72</td>\n",
       "      <td>193</td>\n",
       "      <td>11.62</td>\n",
       "    </tr>\n",
       "    <tr>\n",
       "      <th>3</th>\n",
       "      <td>62.00</td>\n",
       "      <td>1</td>\n",
       "      <td>59.78</td>\n",
       "      <td>0.92</td>\n",
       "      <td>rain</td>\n",
       "      <td>339.39</td>\n",
       "      <td>0.0250</td>\n",
       "      <td>0.64</td>\n",
       "      <td>rain</td>\n",
       "      <td>1013.55</td>\n",
       "      <td>Light Rain</td>\n",
       "      <td>62.00</td>\n",
       "      <td>2016-03-05 03:00:00</td>\n",
       "      <td>4.56</td>\n",
       "      <td>196</td>\n",
       "      <td>11.23</td>\n",
       "    </tr>\n",
       "    <tr>\n",
       "      <th>4</th>\n",
       "      <td>62.04</td>\n",
       "      <td>1</td>\n",
       "      <td>59.89</td>\n",
       "      <td>0.93</td>\n",
       "      <td>rain</td>\n",
       "      <td>340.82</td>\n",
       "      <td>0.0218</td>\n",
       "      <td>0.62</td>\n",
       "      <td>rain</td>\n",
       "      <td>1013.58</td>\n",
       "      <td>Light Rain</td>\n",
       "      <td>62.04</td>\n",
       "      <td>2016-03-05 04:00:00</td>\n",
       "      <td>4.65</td>\n",
       "      <td>196</td>\n",
       "      <td>11.20</td>\n",
       "    </tr>\n",
       "  </tbody>\n",
       "</table>\n",
       "</div>"
      ],
      "text/plain": [
       "   apparentTemperature  cloudCover  dewPoint  humidity  icon   ozone  \\\n",
       "0                62.15           1     59.37      0.91  rain  337.87   \n",
       "1                61.93           1     59.23      0.91  rain  338.57   \n",
       "2                61.81           1     59.55      0.92  rain  338.82   \n",
       "3                62.00           1     59.78      0.92  rain  339.39   \n",
       "4                62.04           1     59.89      0.93  rain  340.82   \n",
       "\n",
       "   precipIntensity  precipProbability precipType  pressure     summary  \\\n",
       "0           0.0280               0.65       rain   1013.87  Light Rain   \n",
       "1           0.0134               0.71       rain   1013.70  Light Rain   \n",
       "2           0.0181               0.64       rain   1013.60  Light Rain   \n",
       "3           0.0250               0.64       rain   1013.55  Light Rain   \n",
       "4           0.0218               0.62       rain   1013.58  Light Rain   \n",
       "\n",
       "   temperature                time  visibility  windBearing  windSpeed  \n",
       "0        62.15 2016-03-05 00:00:00        5.30          188       9.08  \n",
       "1        61.93 2016-03-05 01:00:00        4.86          188      11.07  \n",
       "2        61.81 2016-03-05 02:00:00        4.72          193      11.62  \n",
       "3        62.00 2016-03-05 03:00:00        4.56          196      11.23  \n",
       "4        62.04 2016-03-05 04:00:00        4.65          196      11.20  "
      ]
     },
     "execution_count": 9,
     "metadata": {},
     "output_type": "execute_result"
    }
   ],
   "source": [
    "df.head()"
   ]
  },
  {
   "cell_type": "markdown",
   "metadata": {
    "collapsed": true
   },
   "source": [
    "## Flu data"
   ]
  },
  {
   "cell_type": "code",
   "execution_count": null,
   "metadata": {
    "collapsed": false
   },
   "outputs": [],
   "source": [
    "df_flu = pd.read_csv('../data/flu/flu-us-historic-v3.txt', parse_dates=['Date'])"
   ]
  },
  {
   "cell_type": "code",
   "execution_count": null,
   "metadata": {
    "collapsed": false
   },
   "outputs": [],
   "source": [
    "df_flu.info()"
   ]
  },
  {
   "cell_type": "code",
   "execution_count": null,
   "metadata": {
    "collapsed": false
   },
   "outputs": [],
   "source": [
    "df_flu.columns"
   ]
  },
  {
   "cell_type": "code",
   "execution_count": null,
   "metadata": {
    "collapsed": true
   },
   "outputs": [],
   "source": [
    "df_flu.set_index('Date', inplace=True)"
   ]
  },
  {
   "cell_type": "code",
   "execution_count": null,
   "metadata": {
    "collapsed": false
   },
   "outputs": [],
   "source": [
    "df_flu['HHS Region 1 (CT, ME, MA, NH, RI, VT)'].plot(figsize=(12,5))"
   ]
  },
  {
   "cell_type": "code",
   "execution_count": null,
   "metadata": {
    "collapsed": false
   },
   "outputs": [],
   "source": [
    "df_flu.tail()"
   ]
  },
  {
   "cell_type": "code",
   "execution_count": null,
   "metadata": {
    "collapsed": false
   },
   "outputs": [],
   "source": [
    "scaler = preprocessing.StandardScaler()\n",
    "df_flu['flu_scaled'] = scaler.fit_transform(df_flu['HHS Region 1 (CT, ME, MA, NH, RI, VT)'].reshape(-1, 1))"
   ]
  },
  {
   "cell_type": "code",
   "execution_count": null,
   "metadata": {
    "collapsed": false
   },
   "outputs": [],
   "source": [
    "df_flu.flu_scaled[-10:]"
   ]
  },
  {
   "cell_type": "markdown",
   "metadata": {
    "collapsed": true
   },
   "source": [
    "## AWS S3"
   ]
  },
  {
   "cell_type": "code",
   "execution_count": null,
   "metadata": {
    "collapsed": false
   },
   "outputs": [],
   "source": [
    "from boto3 import client\n",
    "\n",
    "conn = client('s3')  # again assumes boto.cfg setup, assume AWS S3\n",
    "for key in conn.list_objects(Bucket='aws-s3-data')['Contents']:\n",
    "    print(key['Key'])"
   ]
  },
  {
   "cell_type": "code",
   "execution_count": null,
   "metadata": {
    "collapsed": false
   },
   "outputs": [],
   "source": [
    "import boto3\n",
    "s3 = boto3.resource('s3')\n",
    "mybucket = s3.Bucket('aws-s3-data')"
   ]
  },
  {
   "cell_type": "code",
   "execution_count": null,
   "metadata": {
    "collapsed": false
   },
   "outputs": [],
   "source": [
    "for object in mybucket.objects.all():\n",
    "    print(object)"
   ]
  },
  {
   "cell_type": "code",
   "execution_count": null,
   "metadata": {
    "collapsed": false
   },
   "outputs": [],
   "source": [
    "train = pd.read_csv('s3a://aws-s3-data/noaa/hourly/201501hourly.txt.gz')\n",
    "# test  = pd.read_csv('s3a://aws-s3-../data/kaggle/titanic/test.csv')"
   ]
  },
  {
   "cell_type": "code",
   "execution_count": null,
   "metadata": {
    "collapsed": false
   },
   "outputs": [],
   "source": [
    "train.head()"
   ]
  },
  {
   "cell_type": "code",
   "execution_count": null,
   "metadata": {
    "collapsed": false
   },
   "outputs": [],
   "source": [
    "train.ix[:5,[10,12,14,18,20,24,26,30,42]]"
   ]
  },
  {
   "cell_type": "code",
   "execution_count": null,
   "metadata": {
    "collapsed": true
   },
   "outputs": [],
   "source": []
  },
  {
   "cell_type": "markdown",
   "metadata": {},
   "source": [
    "## swissnex SFTMA data"
   ]
  },
  {
   "cell_type": "code",
   "execution_count": null,
   "metadata": {
    "collapsed": false
   },
   "outputs": [],
   "source": [
    "df_pass_count = pd.read_csv('data_swissnexsf/public-transportation/san-francisco/passenger-count.csv')"
   ]
  },
  {
   "cell_type": "code",
   "execution_count": null,
   "metadata": {
    "collapsed": false
   },
   "outputs": [],
   "source": [
    "df_pass_count"
   ]
  },
  {
   "cell_type": "code",
   "execution_count": null,
   "metadata": {
    "collapsed": false
   },
   "outputs": [],
   "source": [
    "df_pass_count[df_pass_count.STOP_ID == 6996]"
   ]
  },
  {
   "cell_type": "code",
   "execution_count": null,
   "metadata": {
    "collapsed": false
   },
   "outputs": [],
   "source": [
    "df_pass_count.ROUTE.unique()"
   ]
  },
  {
   "cell_type": "code",
   "execution_count": null,
   "metadata": {
    "collapsed": false
   },
   "outputs": [],
   "source": [
    "list(df_pass_count.STOP_NAME.unique())"
   ]
  },
  {
   "cell_type": "code",
   "execution_count": null,
   "metadata": {
    "collapsed": false
   },
   "outputs": [],
   "source": [
    "df_pass_count.MO.unique()"
   ]
  },
  {
   "cell_type": "code",
   "execution_count": null,
   "metadata": {
    "collapsed": false
   },
   "outputs": [],
   "source": [
    "df_real_arr = pd.read_csv('data_swissnexsf/public-transportation/san-francisco/realtime-arrivals.csv')"
   ]
  },
  {
   "cell_type": "code",
   "execution_count": null,
   "metadata": {
    "collapsed": false
   },
   "outputs": [],
   "source": [
    "df_real_arr.head()"
   ]
  },
  {
   "cell_type": "code",
   "execution_count": null,
   "metadata": {
    "collapsed": false
   },
   "outputs": [],
   "source": [
    "df_real_arr.PUBLIC_ROUTE_NAME.unique()"
   ]
  },
  {
   "cell_type": "code",
   "execution_count": null,
   "metadata": {
    "collapsed": false
   },
   "outputs": [],
   "source": [
    "df_real_arr[df_real_arr.PUBLIC_ROUTE_NAME == 'N']"
   ]
  },
  {
   "cell_type": "code",
   "execution_count": null,
   "metadata": {
    "collapsed": true
   },
   "outputs": [],
   "source": [
    "df_sched_arr = pd.read_csv('/Users/Engel/GitHub/project/Urban-Data-Challenge-master/public-transportation/san-francisco/scheduled-arrivals.csv')"
   ]
  },
  {
   "cell_type": "code",
   "execution_count": null,
   "metadata": {
    "collapsed": false
   },
   "outputs": [],
   "source": [
    "df_sched_arr.head()"
   ]
  },
  {
   "cell_type": "code",
   "execution_count": null,
   "metadata": {
    "collapsed": false
   },
   "outputs": [],
   "source": [
    "df_pass_count.groupby(['YR','MO','DAY'])[['ON']].count().plot()"
   ]
  },
  {
   "cell_type": "code",
   "execution_count": null,
   "metadata": {
    "collapsed": true
   },
   "outputs": [],
   "source": [
    "df_pass_zur = pd.read_csv('/Users/Engel/GitHub/project/Urban-Data-Challenge-master/public-transportation/zurich/passenger-counts.csv')"
   ]
  },
  {
   "cell_type": "code",
   "execution_count": null,
   "metadata": {
    "collapsed": false
   },
   "outputs": [],
   "source": [
    "df_pass_zur.info()"
   ]
  },
  {
   "cell_type": "code",
   "execution_count": null,
   "metadata": {
    "collapsed": true
   },
   "outputs": [],
   "source": [
    "df_sfmta_stop = pd.read_csv('data_sfmta/stop_times.txt')"
   ]
  },
  {
   "cell_type": "code",
   "execution_count": null,
   "metadata": {
    "collapsed": false
   },
   "outputs": [],
   "source": [
    "df_sfmta_stop.head()"
   ]
  },
  {
   "cell_type": "code",
   "execution_count": null,
   "metadata": {
    "collapsed": true
   },
   "outputs": [],
   "source": [
    "df_sfmta_trip = pd.read_csv('data_sfmta/trips.txt')"
   ]
  },
  {
   "cell_type": "code",
   "execution_count": null,
   "metadata": {
    "collapsed": false
   },
   "outputs": [],
   "source": [
    "df_sfmta_trip.head()"
   ]
  },
  {
   "cell_type": "code",
   "execution_count": null,
   "metadata": {
    "collapsed": false
   },
   "outputs": [],
   "source": [
    "df_sfmta_trip.groupby('route_id')['trip_id'].count()"
   ]
  },
  {
   "cell_type": "code",
   "execution_count": null,
   "metadata": {
    "collapsed": true
   },
   "outputs": [],
   "source": [
    "df_sfmta_dates = pd.read_csv('data_sfmta/calendar_dates.txt')"
   ]
  },
  {
   "cell_type": "code",
   "execution_count": null,
   "metadata": {
    "collapsed": false
   },
   "outputs": [],
   "source": [
    "df_sfmta_dates.head()"
   ]
  },
  {
   "cell_type": "code",
   "execution_count": null,
   "metadata": {
    "collapsed": true
   },
   "outputs": [],
   "source": [
    "df_sfmta_routes = pd.read_csv('data_sfmta/routes.txt')"
   ]
  },
  {
   "cell_type": "code",
   "execution_count": null,
   "metadata": {
    "collapsed": false
   },
   "outputs": [],
   "source": [
    "df_sfmta_routes.head()"
   ]
  },
  {
   "cell_type": "code",
   "execution_count": null,
   "metadata": {
    "collapsed": false
   },
   "outputs": [],
   "source": [
    "df_sfmta_routes.route_short_name.unique()"
   ]
  },
  {
   "cell_type": "code",
   "execution_count": null,
   "metadata": {
    "collapsed": false
   },
   "outputs": [],
   "source": [
    "df_sfmta_routes[df_sfmta_routes['route_short_name'] == 'N   ']"
   ]
  },
  {
   "cell_type": "markdown",
   "metadata": {},
   "source": [
    "## Uber data"
   ]
  },
  {
   "cell_type": "code",
   "execution_count": null,
   "metadata": {
    "collapsed": true
   },
   "outputs": [],
   "source": [
    "df_uber = pd.read_csv('data_uber/uber-trip-../data/uber-raw-data-apr14.csv')"
   ]
  },
  {
   "cell_type": "code",
   "execution_count": null,
   "metadata": {
    "collapsed": false
   },
   "outputs": [],
   "source": [
    "df_uber.head(10)"
   ]
  },
  {
   "cell_type": "markdown",
   "metadata": {},
   "source": [
    "## NYC Taxi Data"
   ]
  },
  {
   "cell_type": "code",
   "execution_count": null,
   "metadata": {
    "collapsed": false
   },
   "outputs": [],
   "source": [
    "# open files  all file inside ../data/ folder and in zip format\n",
    "df_nyc_trip = pd.read_csv(zipfile.ZipFile('data_nyc_taxi/trip_data_1.csv.zip').open('trip_data_1.csv'))\n",
    "df_nyc_fare = pd.read_csv(zipfile.ZipFile('data_nyc_taxi/trip_fare_1.csv.zip').open('trip_fare_1.csv'))"
   ]
  },
  {
   "cell_type": "code",
   "execution_count": null,
   "metadata": {
    "collapsed": false
   },
   "outputs": [],
   "source": [
    "df_nyc_trip.head()"
   ]
  },
  {
   "cell_type": "code",
   "execution_count": null,
   "metadata": {
    "collapsed": false
   },
   "outputs": [],
   "source": [
    "df_nyc_fare.head()"
   ]
  },
  {
   "cell_type": "markdown",
   "metadata": {},
   "source": [
    "## Chicago CTA data"
   ]
  },
  {
   "cell_type": "code",
   "execution_count": 30,
   "metadata": {
    "collapsed": true
   },
   "outputs": [],
   "source": [
    "df_cta_import = pd.read_csv('../data/cta/cta_daily.csv', \n",
    "                            parse_dates =['service_date'], index_col='service_date')"
   ]
  },
  {
   "cell_type": "code",
   "execution_count": 31,
   "metadata": {
    "collapsed": true
   },
   "outputs": [],
   "source": [
    "df_cta = df_cta_import['20110101':'20151231'].copy()"
   ]
  },
  {
   "cell_type": "code",
   "execution_count": 32,
   "metadata": {
    "collapsed": false
   },
   "outputs": [
    {
     "name": "stdout",
     "output_type": "stream",
     "text": [
      "<class 'pandas.core.frame.DataFrame'>\n",
      "DatetimeIndex: 1888 entries, 2011-01-01 to 2015-12-31\n",
      "Data columns (total 4 columns):\n",
      "day_type          1888 non-null object\n",
      "bus               1888 non-null float64\n",
      "rail_boardings    1888 non-null float64\n",
      "total_rides       1888 non-null float64\n",
      "dtypes: float64(3), object(1)\n",
      "memory usage: 73.8+ KB\n"
     ]
    }
   ],
   "source": [
    "df_cta.info()"
   ]
  },
  {
   "cell_type": "code",
   "execution_count": 33,
   "metadata": {
    "collapsed": false
   },
   "outputs": [
    {
     "data": {
      "text/html": [
       "<div>\n",
       "<table border=\"1\" class=\"dataframe\">\n",
       "  <thead>\n",
       "    <tr style=\"text-align: right;\">\n",
       "      <th></th>\n",
       "      <th>day_type</th>\n",
       "      <th>bus</th>\n",
       "      <th>rail_boardings</th>\n",
       "      <th>total_rides</th>\n",
       "    </tr>\n",
       "    <tr>\n",
       "      <th>service_date</th>\n",
       "      <th></th>\n",
       "      <th></th>\n",
       "      <th></th>\n",
       "      <th></th>\n",
       "    </tr>\n",
       "  </thead>\n",
       "  <tbody>\n",
       "    <tr>\n",
       "      <th>2011-01-01</th>\n",
       "      <td>U</td>\n",
       "      <td>342872</td>\n",
       "      <td>239754</td>\n",
       "      <td>582626</td>\n",
       "    </tr>\n",
       "    <tr>\n",
       "      <th>2011-01-02</th>\n",
       "      <td>U</td>\n",
       "      <td>364165</td>\n",
       "      <td>225886</td>\n",
       "      <td>590051</td>\n",
       "    </tr>\n",
       "    <tr>\n",
       "      <th>2011-01-03</th>\n",
       "      <td>W</td>\n",
       "      <td>925770</td>\n",
       "      <td>581035</td>\n",
       "      <td>1506805</td>\n",
       "    </tr>\n",
       "    <tr>\n",
       "      <th>2011-01-04</th>\n",
       "      <td>W</td>\n",
       "      <td>946232</td>\n",
       "      <td>621057</td>\n",
       "      <td>1567289</td>\n",
       "    </tr>\n",
       "    <tr>\n",
       "      <th>2011-01-05</th>\n",
       "      <td>W</td>\n",
       "      <td>950712</td>\n",
       "      <td>624027</td>\n",
       "      <td>1574739</td>\n",
       "    </tr>\n",
       "  </tbody>\n",
       "</table>\n",
       "</div>"
      ],
      "text/plain": [
       "             day_type     bus  rail_boardings  total_rides\n",
       "service_date                                              \n",
       "2011-01-01          U  342872          239754       582626\n",
       "2011-01-02          U  364165          225886       590051\n",
       "2011-01-03          W  925770          581035      1506805\n",
       "2011-01-04          W  946232          621057      1567289\n",
       "2011-01-05          W  950712          624027      1574739"
      ]
     },
     "execution_count": 33,
     "metadata": {},
     "output_type": "execute_result"
    }
   ],
   "source": [
    "df_cta.head()"
   ]
  },
  {
   "cell_type": "code",
   "execution_count": 34,
   "metadata": {
    "collapsed": false
   },
   "outputs": [
    {
     "data": {
      "text/plain": [
       "<matplotlib.axes._subplots.AxesSubplot at 0x117628e90>"
      ]
     },
     "execution_count": 34,
     "metadata": {},
     "output_type": "execute_result"
    },
    {
     "data": {
      "image/png": "[encoded data removed]",
      "text/plain": [
       "<matplotlib.figure.Figure at 0x11c4513d0>"
      ]
     },
     "metadata": {},
     "output_type": "display_data"
    }
   ],
   "source": [
    "df_cta['total_rides'].plot(figsize=(12,5))"
   ]
  },
  {
   "cell_type": "code",
   "execution_count": 12,
   "metadata": {
    "collapsed": false
   },
   "outputs": [
    {
     "name": "stdout",
     "output_type": "stream",
     "text": [
      "/bin/sh: -c: line 0: syntax error near unexpected token `('\r\n",
      "/bin/sh: -c: line 0: `curl -H \"token:<token>\" url$.ajax({ url:\"url\", data:{\"data\"}, headers:{ token:\"YiWtysrChuZbyOGdFdkwQTUkZGBTnFrY\" } })'\r\n"
     ]
    }
   ],
   "source": [
    "!curl -H \"token:<token>\" url$.ajax({ url:\"url\", data:{\"data\"}, headers:{ token:\"YiWtysrChuZbyOGdFdkwQTUkZGBTnFrY\" } })"
   ]
  },
  {
   "cell_type": "markdown",
   "metadata": {},
   "source": [
    "## NOAA API v2"
   ]
  },
  {
   "cell_type": "code",
   "execution_count": 35,
   "metadata": {
    "collapsed": false
   },
   "outputs": [
    {
     "name": "stdout",
     "output_type": "stream",
     "text": [
      "{}"
     ]
    }
   ],
   "source": [
    "!curl -H \"token:YiWtysrChuZbyOGdFdkwQTUkZGBTnFrY\" http://www.ncdc.noaa.gov/cdo-web/api/v2/datasets?stationid=COOP:02324"
   ]
  },
  {
   "cell_type": "code",
   "execution_count": 45,
   "metadata": {
    "collapsed": false
   },
   "outputs": [
    {
     "name": "stdout",
     "output_type": "stream",
     "text": [
      "{\"metadata\":{\"resultset\":{\"offset\":1,\"count\":4055,\"limit\":25}},\"results\":[{\"elevation\":52.1,\"mindate\":\"1948-01-01\",\"maxdate\":\"1949-08-01\",\"latitude\":32.88333,\"name\":\"IMPERIAL DAM, CA US\",\"datacoverage\":0.9996,\"id\":\"COOP:024299\",\"elevationUnit\":\"METERS\",\"longitude\":-114.46667},{\"elevation\":128,\"mindate\":\"1931-01-01\",\"maxdate\":\"2015-06-01\",\"latitude\":34.1547,\"name\":\"PARKER, AZ US\",\"datacoverage\":0.9754,\"id\":\"COOP:026250\",\"elevationUnit\":\"METERS\",\"longitude\":-114.2897},{\"elevation\":73.2,\"mindate\":\"1948-01-01\",\"maxdate\":\"1974-04-01\",\"latitude\":32.73333,\"name\":\"YUMA WEATHER BUREAU CITY, CA US\",\"datacoverage\":0.9906,\"id\":\"COOP:029662\",\"elevationUnit\":\"METERS\",\"longitude\":-114.61667},{\"elevation\":601.1,\"mindate\":\"1960-08-01\",\"maxdate\":\"1962-12-01\",\"latitude\":39.03333,\"name\":\"ABBOTT MINE, CA US\",\"datacoverage\":0.8618,\"id\":\"COOP:040006\",\"elevationUnit\":\"METERS\",\"longitude\":-122.43333},{\"elevation\":26.5,\"mindate\":\"1994-01-01\",\"maxdate\":\"2015-06-01\",\"latitude\":38.2177,\"name\":\"ACAMPO 5 NE, CA US\",\"datacoverage\":0.9615,\"id\":\"COOP:040010\",\"elevationUnit\":\"METERS\",\"longitude\":-121.2013},{\"elevation\":863.5,\"mindate\":\"1931-01-01\",\"maxdate\":\"2013-12-01\",\"latitude\":34.4938,\"name\":\"ACTON ESCONDIDO CANYON, CA US\",\"datacoverage\":0.8986,\"id\":\"COOP:040014\",\"elevationUnit\":\"METERS\",\"longitude\":-118.2713},{\"elevation\":869,\"mindate\":\"1959-06-01\",\"maxdate\":\"1977-09-01\",\"latitude\":34.58333,\"name\":\"ADELANTO, CA US\",\"datacoverage\":0.9772,\"id\":\"COOP:040024\",\"elevationUnit\":\"METERS\",\"longitude\":-117.41667},{\"elevation\":1278.6,\"mindate\":\"1943-11-01\",\"maxdate\":\"2015-06-01\",\"latitude\":41.1936,\"name\":\"ADIN RANGER STATION, CA US\",\"datacoverage\":0.9931,\"id\":\"COOP:040029\",\"elevationUnit\":\"METERS\",\"longitude\":-120.9447},{\"elevation\":946.1,\"mindate\":\"1931-01-01\",\"maxdate\":\"1948-10-01\",\"latitude\":33.41667,\"name\":\"AGUANGA BERGMAN RANCH, CA US\",\"datacoverage\":0.9999,\"id\":\"COOP:040046\",\"elevationUnit\":\"METERS\",\"longitude\":-116.91667},{\"elevation\":125,\"mindate\":\"1957-10-01\",\"maxdate\":\"1975-08-01\",\"latitude\":37.86667,\"name\":\"ALAMO 1 N, CA US\",\"datacoverage\":0.9256,\"id\":\"COOP:040064\",\"elevationUnit\":\"METERS\",\"longitude\":-122.03333},{\"elevation\":139.9,\"mindate\":\"1940-12-01\",\"maxdate\":\"1980-06-01\",\"latitude\":40.18333,\"name\":\"ALDERPOINT, CA US\",\"datacoverage\":0.9264,\"id\":\"COOP:040088\",\"elevationUnit\":\"METERS\",\"longitude\":-123.61667},{\"elevation\":721.5,\"mindate\":\"1939-09-01\",\"maxdate\":\"1992-10-30\",\"latitude\":34.31667,\"name\":\"ALISO CANYON FC 446, CA US\",\"datacoverage\":0.9711,\"id\":\"COOP:040115\",\"elevationUnit\":\"METERS\",\"longitude\":-118.55},{\"elevation\":167.9,\"mindate\":\"1948-01-01\",\"maxdate\":\"1950-01-01\",\"latitude\":37.18333,\"name\":\"ALMA, CA US\",\"datacoverage\":0.9587,\"id\":\"COOP:040120\",\"elevationUnit\":\"METERS\",\"longitude\":-121.98333},{\"elevation\":153,\"mindate\":\"1948-01-01\",\"maxdate\":\"1949-09-01\",\"latitude\":37.16667,\"name\":\"ALMADEN, CA US\",\"datacoverage\":0.9527,\"id\":\"COOP:040124\",\"elevationUnit\":\"METERS\",\"longitude\":-121.81667},{\"elevation\":580,\"mindate\":\"1935-02-01\",\"maxdate\":\"1945-12-01\",\"latitude\":32.83333,\"name\":\"ALPINE, CA US\",\"datacoverage\":1,\"id\":\"COOP:040133\",\"elevationUnit\":\"METERS\",\"longitude\":-116.76667},{\"elevation\":516.6,\"mindate\":\"1951-11-01\",\"maxdate\":\"1952-09-01\",\"latitude\":32.8358,\"name\":\"ALPINE, CA US\",\"datacoverage\":0.9994,\"id\":\"COOP:040134\",\"elevationUnit\":\"METERS\",\"longitude\":-116.7774},{\"elevation\":516.6,\"mindate\":\"1952-10-01\",\"maxdate\":\"2015-06-01\",\"latitude\":32.8358,\"name\":\"ALPINE, CA US\",\"datacoverage\":0.9642,\"id\":\"COOP:040136\",\"elevationUnit\":\"METERS\",\"longitude\":-116.7774},{\"elevation\":343.5,\"mindate\":\"1931-01-01\",\"maxdate\":\"2015-06-01\",\"latitude\":34.1822,\"name\":\"ALTADENA, CA US\",\"datacoverage\":0.9359,\"id\":\"COOP:040144\",\"elevationUnit\":\"METERS\",\"longitude\":-118.1383},{\"elevation\":1334.4,\"mindate\":\"1931-05-01\",\"maxdate\":\"2015-06-01\",\"latitude\":41.4901,\"name\":\"ALTURAS, CA US\",\"datacoverage\":0.9931,\"id\":\"COOP:040161\",\"elevationUnit\":\"METERS\",\"longitude\":-120.5437},{\"elevation\":3,\"mindate\":\"1931-01-01\",\"maxdate\":\"1942-04-01\",\"latitude\":37.6,\"name\":\"ALVARADO, CA US\",\"datacoverage\":1,\"id\":\"COOP:040163\",\"elevationUnit\":\"METERS\",\"longitude\":-122.11667},{\"elevation\":830,\"mindate\":\"1931-01-01\",\"maxdate\":\"1944-04-01\",\"latitude\":33.28333,\"name\":\"AMAGO, CA US\",\"datacoverage\":1,\"id\":\"COOP:040170\",\"elevationUnit\":\"METERS\",\"longitude\":-116.86667},{\"elevation\":387.7,\"mindate\":\"2009-02-01\",\"maxdate\":\"2010-12-01\",\"latitude\":34.16139,\"name\":\"AMBOY ROAD EAST, CA US\",\"datacoverage\":1,\"id\":\"COOP:040174\",\"elevationUnit\":\"METERS\",\"longitude\":-115.80444},{\"elevation\":197.5,\"mindate\":\"1948-01-01\",\"maxdate\":\"2015-06-01\",\"latitude\":34.5591,\"name\":\"AMBOY, CA US\",\"datacoverage\":0.1111,\"id\":\"COOP:040176\",\"elevationUnit\":\"METERS\",\"longitude\":-115.7441},{\"elevation\":43,\"mindate\":\"1946-08-01\",\"maxdate\":\"1954-06-01\",\"latitude\":34.01667,\"name\":\"ANACAPA ISLAND, CA \",\"datacoverage\":1,\"id\":\"COOP:040188\",\"elevationUnit\":\"METERS\",\"longitude\":-119.36667},{\"elevation\":102.1,\"mindate\":\"1989-08-01\",\"maxdate\":\"2015-06-01\",\"latitude\":33.8647,\"name\":\"ANAHEIM, CA US\",\"datacoverage\":0.968,\"id\":\"COOP:040192\",\"elevationUnit\":\"METERS\",\"longitude\":-117.8425}]}"
     ]
    }
   ],
   "source": [
    "!curl -H \"token:YiWtysrChuZbyOGdFdkwQTUkZGBTnFrY\" http://www.ncdc.noaa.gov/cdo-web/api/v2/stations?locationid=FIPS:06"
   ]
  },
  {
   "cell_type": "code",
   "execution_count": 34,
   "metadata": {
    "collapsed": false
   },
   "outputs": [
    {
     "name": "stdout",
     "output_type": "stream",
     "text": [
      "{\"metadata\":{\"resultset\":{\"offset\":1,\"count\":38849,\"limit\":25}},\"results\":[{\"mindate\":\"1983-01-01\",\"maxdate\":\"2016-03-07\",\"name\":\"Abu Dhabi, AE\",\"datacoverage\":0.9977,\"id\":\"CITY:AE000001\"},{\"mindate\":\"1944-03-01\",\"maxdate\":\"2016-03-07\",\"name\":\"Ajman, AE\",\"datacoverage\":0.9994,\"id\":\"CITY:AE000002\"},{\"mindate\":\"1944-03-01\",\"maxdate\":\"2016-03-07\",\"name\":\"Dubai, AE\",\"datacoverage\":0.9994,\"id\":\"CITY:AE000003\"},{\"mindate\":\"1944-03-01\",\"maxdate\":\"2016-03-07\",\"name\":\"Sharjah, AE\",\"datacoverage\":0.9994,\"id\":\"CITY:AE000006\"},{\"mindate\":\"1966-03-02\",\"maxdate\":\"2016-03-07\",\"name\":\"Kabul, AF\",\"datacoverage\":0.5316,\"id\":\"CITY:AF000007\"},{\"mindate\":\"1973-01-02\",\"maxdate\":\"2014-11-02\",\"name\":\"Kandahar, AF\",\"datacoverage\":0.8304,\"id\":\"CITY:AF000008\"},{\"mindate\":\"1877-04-01\",\"maxdate\":\"2016-03-07\",\"name\":\"Algiers, AG\",\"datacoverage\":1,\"id\":\"CITY:AG000001\"},{\"mindate\":\"1909-11-01\",\"maxdate\":\"2016-03-07\",\"name\":\"Annaba, AG\",\"datacoverage\":0.9527,\"id\":\"CITY:AG000002\"},{\"mindate\":\"1973-04-01\",\"maxdate\":\"2016-03-07\",\"name\":\"Batna, AG\",\"datacoverage\":0.9806,\"id\":\"CITY:AG000003\"},{\"mindate\":\"1957-01-01\",\"maxdate\":\"2016-03-07\",\"name\":\"Bechar, AG\",\"datacoverage\":1,\"id\":\"CITY:AG000004\"},{\"mindate\":\"1909-11-01\",\"maxdate\":\"2016-03-07\",\"name\":\"Bejaia, AG\",\"datacoverage\":1,\"id\":\"CITY:AG000005\"},{\"mindate\":\"1880-05-01\",\"maxdate\":\"2016-03-07\",\"name\":\"Constantine, AG\",\"datacoverage\":0.8736,\"id\":\"CITY:AG000006\"},{\"mindate\":\"1995-10-01\",\"maxdate\":\"2016-03-07\",\"name\":\"Guelma, AG\",\"datacoverage\":1,\"id\":\"CITY:AG000007\"},{\"mindate\":\"1888-01-01\",\"maxdate\":\"2016-03-07\",\"name\":\"Laghouat, AG\",\"datacoverage\":0.5091,\"id\":\"CITY:AG000008\"},{\"mindate\":\"1995-10-01\",\"maxdate\":\"2016-03-07\",\"name\":\"Medea, AG\",\"datacoverage\":0.8041,\"id\":\"CITY:AG000009\"},{\"mindate\":\"1976-04-01\",\"maxdate\":\"2016-03-07\",\"name\":\"Mostaganem, AG\",\"datacoverage\":0.6925,\"id\":\"CITY:AG000010\"},{\"mindate\":\"1957-01-01\",\"maxdate\":\"2016-03-07\",\"name\":\"Oran, AG\",\"datacoverage\":1,\"id\":\"CITY:AG000011\"},{\"mindate\":\"1985-02-01\",\"maxdate\":\"2016-03-07\",\"name\":\"Oum el Bouaghi, AG\",\"datacoverage\":0.7959,\"id\":\"CITY:AG000012\"},{\"mindate\":\"1981-01-01\",\"maxdate\":\"2016-03-07\",\"name\":\"Saida, AG\",\"datacoverage\":0.6589,\"id\":\"CITY:AG000013\"},{\"mindate\":\"1995-10-01\",\"maxdate\":\"2016-03-07\",\"name\":\"Sidi-Bel-Abbes, AG\",\"datacoverage\":0.7919,\"id\":\"CITY:AG000014\"},{\"mindate\":\"1957-12-31\",\"maxdate\":\"2016-03-07\",\"name\":\"Skikda, AG\",\"datacoverage\":0.8071,\"id\":\"CITY:AG000015\"},{\"mindate\":\"1940-01-01\",\"maxdate\":\"2014-02-18\",\"name\":\"Tamanrasset, AG\",\"datacoverage\":0.9911,\"id\":\"CITY:AG000016\"},{\"mindate\":\"1981-01-01\",\"maxdate\":\"2016-03-07\",\"name\":\"Tlemcen, AG\",\"datacoverage\":1,\"id\":\"CITY:AG000017\"},{\"mindate\":\"1881-07-01\",\"maxdate\":\"1992-01-31\",\"name\":\"Baku, AJ\",\"datacoverage\":0.991,\"id\":\"CITY:AJ000001\"},{\"mindate\":\"1925-09-01\",\"maxdate\":\"1991-12-31\",\"name\":\"Naxcivian, AJ\",\"datacoverage\":0.9121,\"id\":\"CITY:AJ000002\"}]}"
     ]
    }
   ],
   "source": [
    "!curl -H \"token:YiWtysrChuZbyOGdFdkwQTUkZGBTnFrY\" http://www.ncdc.noaa.gov/cdo-web/api/v2/locations"
   ]
  },
  {
   "cell_type": "code",
   "execution_count": 54,
   "metadata": {
    "collapsed": false
   },
   "outputs": [
    {
     "name": "stdout",
     "output_type": "stream",
     "text": [
      "{\"metadata\":{\"resultset\":{\"offset\":1,\"count\":4055,\"limit\":25}},\"results\":[{\"elevation\":52.1,\"mindate\":\"1948-01-01\",\"maxdate\":\"1949-08-01\",\"latitude\":32.88333,\"name\":\"IMPERIAL DAM, CA US\",\"datacoverage\":0.9996,\"id\":\"COOP:024299\",\"elevationUnit\":\"METERS\",\"longitude\":-114.46667},{\"elevation\":128,\"mindate\":\"1931-01-01\",\"maxdate\":\"2015-06-01\",\"latitude\":34.1547,\"name\":\"PARKER, AZ US\",\"datacoverage\":0.9754,\"id\":\"COOP:026250\",\"elevationUnit\":\"METERS\",\"longitude\":-114.2897},{\"elevation\":73.2,\"mindate\":\"1948-01-01\",\"maxdate\":\"1974-04-01\",\"latitude\":32.73333,\"name\":\"YUMA WEATHER BUREAU CITY, CA US\",\"datacoverage\":0.9906,\"id\":\"COOP:029662\",\"elevationUnit\":\"METERS\",\"longitude\":-114.61667},{\"elevation\":601.1,\"mindate\":\"1960-08-01\",\"maxdate\":\"1962-12-01\",\"latitude\":39.03333,\"name\":\"ABBOTT MINE, CA US\",\"datacoverage\":0.8618,\"id\":\"COOP:040006\",\"elevationUnit\":\"METERS\",\"longitude\":-122.43333},{\"elevation\":26.5,\"mindate\":\"1994-01-01\",\"maxdate\":\"2015-06-01\",\"latitude\":38.2177,\"name\":\"ACAMPO 5 NE, CA US\",\"datacoverage\":0.9615,\"id\":\"COOP:040010\",\"elevationUnit\":\"METERS\",\"longitude\":-121.2013},{\"elevation\":863.5,\"mindate\":\"1931-01-01\",\"maxdate\":\"2013-12-01\",\"latitude\":34.4938,\"name\":\"ACTON ESCONDIDO CANYON, CA US\",\"datacoverage\":0.8986,\"id\":\"COOP:040014\",\"elevationUnit\":\"METERS\",\"longitude\":-118.2713},{\"elevation\":869,\"mindate\":\"1959-06-01\",\"maxdate\":\"1977-09-01\",\"latitude\":34.58333,\"name\":\"ADELANTO, CA US\",\"datacoverage\":0.9772,\"id\":\"COOP:040024\",\"elevationUnit\":\"METERS\",\"longitude\":-117.41667},{\"elevation\":1278.6,\"mindate\":\"1943-11-01\",\"maxdate\":\"2015-06-01\",\"latitude\":41.1936,\"name\":\"ADIN RANGER STATION, CA US\",\"datacoverage\":0.9931,\"id\":\"COOP:040029\",\"elevationUnit\":\"METERS\",\"longitude\":-120.9447},{\"elevation\":946.1,\"mindate\":\"1931-01-01\",\"maxdate\":\"1948-10-01\",\"latitude\":33.41667,\"name\":\"AGUANGA BERGMAN RANCH, CA US\",\"datacoverage\":0.9999,\"id\":\"COOP:040046\",\"elevationUnit\":\"METERS\",\"longitude\":-116.91667},{\"elevation\":125,\"mindate\":\"1957-10-01\",\"maxdate\":\"1975-08-01\",\"latitude\":37.86667,\"name\":\"ALAMO 1 N, CA US\",\"datacoverage\":0.9256,\"id\":\"COOP:040064\",\"elevationUnit\":\"METERS\",\"longitude\":-122.03333},{\"elevation\":139.9,\"mindate\":\"1940-12-01\",\"maxdate\":\"1980-06-01\",\"latitude\":40.18333,\"name\":\"ALDERPOINT, CA US\",\"datacoverage\":0.9264,\"id\":\"COOP:040088\",\"elevationUnit\":\"METERS\",\"longitude\":-123.61667},{\"elevation\":721.5,\"mindate\":\"1939-09-01\",\"maxdate\":\"1992-10-30\",\"latitude\":34.31667,\"name\":\"ALISO CANYON FC 446, CA US\",\"datacoverage\":0.9711,\"id\":\"COOP:040115\",\"elevationUnit\":\"METERS\",\"longitude\":-118.55},{\"elevation\":167.9,\"mindate\":\"1948-01-01\",\"maxdate\":\"1950-01-01\",\"latitude\":37.18333,\"name\":\"ALMA, CA US\",\"datacoverage\":0.9587,\"id\":\"COOP:040120\",\"elevationUnit\":\"METERS\",\"longitude\":-121.98333},{\"elevation\":153,\"mindate\":\"1948-01-01\",\"maxdate\":\"1949-09-01\",\"latitude\":37.16667,\"name\":\"ALMADEN, CA US\",\"datacoverage\":0.9527,\"id\":\"COOP:040124\",\"elevationUnit\":\"METERS\",\"longitude\":-121.81667},{\"elevation\":580,\"mindate\":\"1935-02-01\",\"maxdate\":\"1945-12-01\",\"latitude\":32.83333,\"name\":\"ALPINE, CA US\",\"datacoverage\":1,\"id\":\"COOP:040133\",\"elevationUnit\":\"METERS\",\"longitude\":-116.76667},{\"elevation\":516.6,\"mindate\":\"1951-11-01\",\"maxdate\":\"1952-09-01\",\"latitude\":32.8358,\"name\":\"ALPINE, CA US\",\"datacoverage\":0.9994,\"id\":\"COOP:040134\",\"elevationUnit\":\"METERS\",\"longitude\":-116.7774},{\"elevation\":516.6,\"mindate\":\"1952-10-01\",\"maxdate\":\"2015-06-01\",\"latitude\":32.8358,\"name\":\"ALPINE, CA US\",\"datacoverage\":0.9642,\"id\":\"COOP:040136\",\"elevationUnit\":\"METERS\",\"longitude\":-116.7774},{\"elevation\":343.5,\"mindate\":\"1931-01-01\",\"maxdate\":\"2015-06-01\",\"latitude\":34.1822,\"name\":\"ALTADENA, CA US\",\"datacoverage\":0.9359,\"id\":\"COOP:040144\",\"elevationUnit\":\"METERS\",\"longitude\":-118.1383},{\"elevation\":1334.4,\"mindate\":\"1931-05-01\",\"maxdate\":\"2015-06-01\",\"latitude\":41.4901,\"name\":\"ALTURAS, CA US\",\"datacoverage\":0.9931,\"id\":\"COOP:040161\",\"elevationUnit\":\"METERS\",\"longitude\":-120.5437},{\"elevation\":3,\"mindate\":\"1931-01-01\",\"maxdate\":\"1942-04-01\",\"latitude\":37.6,\"name\":\"ALVARADO, CA US\",\"datacoverage\":1,\"id\":\"COOP:040163\",\"elevationUnit\":\"METERS\",\"longitude\":-122.11667},{\"elevation\":830,\"mindate\":\"1931-01-01\",\"maxdate\":\"1944-04-01\",\"latitude\":33.28333,\"name\":\"AMAGO, CA US\",\"datacoverage\":1,\"id\":\"COOP:040170\",\"elevationUnit\":\"METERS\",\"longitude\":-116.86667},{\"elevation\":387.7,\"mindate\":\"2009-02-01\",\"maxdate\":\"2010-12-01\",\"latitude\":34.16139,\"name\":\"AMBOY ROAD EAST, CA US\",\"datacoverage\":1,\"id\":\"COOP:040174\",\"elevationUnit\":\"METERS\",\"longitude\":-115.80444},{\"elevation\":197.5,\"mindate\":\"1948-01-01\",\"maxdate\":\"2015-06-01\",\"latitude\":34.5591,\"name\":\"AMBOY, CA US\",\"datacoverage\":0.1111,\"id\":\"COOP:040176\",\"elevationUnit\":\"METERS\",\"longitude\":-115.7441},{\"elevation\":43,\"mindate\":\"1946-08-01\",\"maxdate\":\"1954-06-01\",\"latitude\":34.01667,\"name\":\"ANACAPA ISLAND, CA \",\"datacoverage\":1,\"id\":\"COOP:040188\",\"elevationUnit\":\"METERS\",\"longitude\":-119.36667},{\"elevation\":102.1,\"mindate\":\"1989-08-01\",\"maxdate\":\"2015-06-01\",\"latitude\":33.8647,\"name\":\"ANAHEIM, CA US\",\"datacoverage\":0.968,\"id\":\"COOP:040192\",\"elevationUnit\":\"METERS\",\"longitude\":-117.8425}]}"
     ]
    }
   ],
   "source": [
    "!curl -H \"token:YiWtysrChuZbyOGdFdkwQTUkZGBTnFrY\" http://www.ncdc.noaa.gov/cdo-web/api/v2/stations?locationid=FIPS:06"
   ]
  },
  {
   "cell_type": "code",
   "execution_count": 52,
   "metadata": {
    "collapsed": false
   },
   "outputs": [],
   "source": [
    "!curl -H \"token:YiWtysrChuZbyOGdFdkwQTUkZGBTnFrY\" http://www.ncdc.noaa.gov/cdo-web/api/v2/locations?locationcategoryid=ZIP&sortfield=name&sortorder=desc"
   ]
  },
  {
   "cell_type": "code",
   "execution_count": null,
   "metadata": {
    "collapsed": true
   },
   "outputs": [],
   "source": []
  }
 ],
 "metadata": {
  "kernelspec": {
   "display_name": "Python 2",
   "language": "python",
   "name": "python2"
  },
  "language_info": {
   "codemirror_mode": {
    "name": "ipython",
    "version": 2
   },
   "file_extension": ".py",
   "mimetype": "text/x-python",
   "name": "python",
   "nbconvert_exporter": "python",
   "pygments_lexer": "ipython2",
   "version": "2.7.11"
  }
 },
 "nbformat": 4,
 "nbformat_minor": 0
}
